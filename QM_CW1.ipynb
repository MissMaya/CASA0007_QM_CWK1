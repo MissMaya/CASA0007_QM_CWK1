{
 "cells": [
  {
   "cell_type": "markdown",
   "id": "6e01d317-2812-4c6a-af63-f5b29698cd48",
   "metadata": {},
   "source": [
    "## Notebook contents\n",
    "* [1. Load the required packages](#section1)\n",
    "* [2. Load the data and make initial checks](#section2)\n",
    "* [3. The \"Standardised\" dataset for the period of interest (2018)](#section3)\n",
    "* [4. The \"Gendered Raw\" dataset for the period of interest (2018)](#section4)\n",
    "* [5. The \"Total Raw\" dataset for the period of interest (2018)](#section5)\n",
    "* [6. Conduct PCA on Total Raw](#section6) \n",
    "\n",
    "\n",
    "\n",
    "\n"
   ]
  },
  {
   "cell_type": "markdown",
   "id": "f819e40e-6b40-45df-a3dc-d590e9a887b8",
   "metadata": {},
   "source": [
    "## 1. Load the required packages<a class=\"anchor\" id=\"section1\"></a>"
   ]
  },
  {
   "cell_type": "code",
   "execution_count": 1,
   "id": "f4c65eee-1e0e-44bc-9776-e8c8fa801b3d",
   "metadata": {},
   "outputs": [
    {
     "name": "stdout",
     "output_type": "stream",
     "text": [
      "Requirement already satisfied: factor_analyzer in /opt/conda/envs/sds2021/lib/python3.9/site-packages (0.4.0)\n",
      "Requirement already satisfied: scikit-learn in /opt/conda/envs/sds2021/lib/python3.9/site-packages (from factor_analyzer) (0.24.2)\n",
      "Requirement already satisfied: scipy in /opt/conda/envs/sds2021/lib/python3.9/site-packages (from factor_analyzer) (1.7.0)\n",
      "Requirement already satisfied: numpy in /opt/conda/envs/sds2021/lib/python3.9/site-packages (from factor_analyzer) (1.21.1)\n",
      "Requirement already satisfied: pandas in /opt/conda/envs/sds2021/lib/python3.9/site-packages (from factor_analyzer) (1.3.0)\n",
      "Requirement already satisfied: python-dateutil>=2.7.3 in /opt/conda/envs/sds2021/lib/python3.9/site-packages (from pandas->factor_analyzer) (2.8.0)\n",
      "Requirement already satisfied: pytz>=2017.3 in /opt/conda/envs/sds2021/lib/python3.9/site-packages (from pandas->factor_analyzer) (2021.1)\n",
      "Requirement already satisfied: six>=1.5 in /opt/conda/envs/sds2021/lib/python3.9/site-packages (from python-dateutil>=2.7.3->pandas->factor_analyzer) (1.16.0)\n",
      "Requirement already satisfied: threadpoolctl>=2.0.0 in /opt/conda/envs/sds2021/lib/python3.9/site-packages (from scikit-learn->factor_analyzer) (2.2.0)\n",
      "Requirement already satisfied: joblib>=0.11 in /opt/conda/envs/sds2021/lib/python3.9/site-packages (from scikit-learn->factor_analyzer) (1.0.1)\n"
     ]
    }
   ],
   "source": [
    "# Required packages\n",
    "import pandas as pd\n",
    "import numpy as np\n",
    "!pip install factor_analyzer\n",
    "from factor_analyzer import FactorAnalyzer\n",
    "import matplotlib.pyplot as plot\n",
    "import seaborn as sns\n"
   ]
  },
  {
   "cell_type": "markdown",
   "id": "56850a90-b4bd-4440-a58c-98031f7c9cb3",
   "metadata": {},
   "source": [
    "## 2. Load the data and make initial checks<a class=\"anchor\" id=\"section2\"></a>"
   ]
  },
  {
   "cell_type": "markdown",
   "id": "a237a196-7d25-4c03-899e-ffb4cb342798",
   "metadata": {},
   "source": [
    "### 2.1. Read the data, make a copy, check types and check for null and NA values"
   ]
  },
  {
   "cell_type": "code",
   "execution_count": 2,
   "id": "e6e4d0cd-5f88-4fda-a01e-b6efefd77d2e",
   "metadata": {},
   "outputs": [],
   "source": [
    "# Read in data from csv file to pandas dataframe\n",
    "data_set = pd.read_csv(\"childhood_obesity_data.csv\")"
   ]
  },
  {
   "cell_type": "code",
   "execution_count": 3,
   "id": "03d66cda-fd73-440f-9b91-25d9a39c2271",
   "metadata": {},
   "outputs": [],
   "source": [
    "# Make a copy of the data to work from to preserve original dataset in case it's needed for reference\n",
    "data = data_set.copy(deep = True)"
   ]
  },
  {
   "cell_type": "code",
   "execution_count": 4,
   "id": "60fa1405-55e1-458b-a3da-81b8b0453b0f",
   "metadata": {},
   "outputs": [
    {
     "name": "stdout",
     "output_type": "stream",
     "text": [
      "<class 'pandas.core.frame.DataFrame'>\n",
      "RangeIndex: 152 entries, 0 to 151\n",
      "Data columns (total 28 columns):\n",
      " #   Column                Non-Null Count  Dtype \n",
      "---  ------                --------------  ----- \n",
      " 0   local_authority_area  152 non-null    object\n",
      " 1   2008_cases_total      152 non-null    int64 \n",
      " 2   2013_cases_total      152 non-null    int64 \n",
      " 3   2018_cases_total      152 non-null    int64 \n",
      " 4   2008_pop_total        152 non-null    int64 \n",
      " 5   2013_pop_total        152 non-null    int64 \n",
      " 6   2018_pop_total        152 non-null    int64 \n",
      " 7   2008_cases_male       152 non-null    int64 \n",
      " 8   2013_cases_male       152 non-null    int64 \n",
      " 9   2018_cases_male       152 non-null    int64 \n",
      " 10  2008_pop_male         152 non-null    int64 \n",
      " 11  2013_pop_male         152 non-null    int64 \n",
      " 12  2018_pop_male         152 non-null    int64 \n",
      " 13  2008_cases_female     152 non-null    int64 \n",
      " 14  2013_cases_female     152 non-null    int64 \n",
      " 15  2018_cases_female     152 non-null    int64 \n",
      " 16  2008_pop_female       152 non-null    int64 \n",
      " 17  2013_pop_female       152 non-null    int64 \n",
      " 18  2018_pop_female       152 non-null    int64 \n",
      " 19  total_budget          152 non-null    int64 \n",
      " 20  clean_air             152 non-null    int64 \n",
      " 21  clean_environ         152 non-null    int64 \n",
      " 22  health_training       152 non-null    int64 \n",
      " 23  school_awareness      152 non-null    int64 \n",
      " 24  media_awareness       152 non-null    int64 \n",
      " 25  sub_counselling       152 non-null    int64 \n",
      " 26  region                152 non-null    object\n",
      " 27  local_authority_type  152 non-null    object\n",
      "dtypes: int64(25), object(3)\n",
      "memory usage: 33.4+ KB\n"
     ]
    }
   ],
   "source": [
    "# Check that the data set is of the expected size\n",
    "# Check that columns are of the expected data type\n",
    "data.info()"
   ]
  },
  {
   "cell_type": "code",
   "execution_count": 5,
   "id": "be1285c9-9a1b-4bf6-a2c7-7e9f6a89d60e",
   "metadata": {},
   "outputs": [
    {
     "data": {
      "text/plain": [
       "0"
      ]
     },
     "execution_count": 5,
     "metadata": {},
     "output_type": "execute_result"
    }
   ],
   "source": [
    "# Check for non-unique local authority names as this column will serve as identifier\n",
    "# Count and duplicates in the \"local_authority_area\" column\n",
    "# If total returned is 0, proceed. If not, investigate further\n",
    "\n",
    "data[\"local_authority_area\"].duplicated().sum()"
   ]
  },
  {
   "cell_type": "code",
   "execution_count": 6,
   "id": "315252b2-b323-49d3-a33c-1b9fc67c1d4f",
   "metadata": {},
   "outputs": [
    {
     "data": {
      "text/plain": [
       "0"
      ]
     },
     "execution_count": 6,
     "metadata": {},
     "output_type": "execute_result"
    }
   ],
   "source": [
    "# Same logic to check for null values\n",
    "data.isnull().any().sum()"
   ]
  },
  {
   "cell_type": "code",
   "execution_count": 7,
   "id": "feeae423-7847-4d6f-b1e7-e65f78cea0e2",
   "metadata": {},
   "outputs": [
    {
     "data": {
      "text/plain": [
       "0"
      ]
     },
     "execution_count": 7,
     "metadata": {},
     "output_type": "execute_result"
    }
   ],
   "source": [
    "# Same logic to check for na values\n",
    "data.isna().any().sum()"
   ]
  },
  {
   "cell_type": "markdown",
   "id": "56bd7c68-4860-42e7-be00-8d2b3f413ca7",
   "metadata": {},
   "source": [
    "### 2.2. Sense check the data"
   ]
  },
  {
   "cell_type": "code",
   "execution_count": 8,
   "id": "9fff23fd-fcd5-4110-a7fc-73eebb5b35b2",
   "metadata": {},
   "outputs": [],
   "source": [
    "# Apply some sense checks to the data\n",
    "# For each row of the dataframe:\n",
    "# Does total cases = male cases + female cases across each of the years?\n",
    "# Does total population = male population + female population across each of the years?\n",
    "# Does total budget = sum of spending on each of the 6 spending categories? \n"
   ]
  },
  {
   "cell_type": "code",
   "execution_count": 9,
   "id": "b585cc24-e3fd-421e-8069-a08d3fc22bb0",
   "metadata": {},
   "outputs": [],
   "source": [
    "# Create a function to test all anomalies \n",
    "\n",
    "def test_empty(test):\n",
    "    if not test.empty:\n",
    "        print(f\"{test}\")\n",
    "    else:\n",
    "        print(f\"No anomalies\")"
   ]
  },
  {
   "cell_type": "code",
   "execution_count": 10,
   "id": "d702b745-24ea-4107-96ee-4964acab9025",
   "metadata": {},
   "outputs": [
    {
     "name": "stdout",
     "output_type": "stream",
     "text": [
      "No anomalies\n",
      "No anomalies\n",
      "No anomalies\n"
     ]
    }
   ],
   "source": [
    "# Does total cases = male cases + female cases across each of the years?\n",
    " \n",
    "cases_anomaly_2008 = data[data[\"2008_cases_total\"] != data[\"2008_cases_male\"] + data[\"2008_cases_female\"]]\n",
    "cases_anomaly_2013 = data[data[\"2013_cases_total\"] != data[\"2013_cases_male\"] + data[\"2013_cases_female\"]]\n",
    "cases_anomaly_2018 = data[data[\"2018_cases_total\"] != data[\"2018_cases_male\"] + data[\"2018_cases_female\"]]\n",
    "\n",
    "test_empty(cases_anomaly_2008) \n",
    "test_empty(cases_anomaly_2013)\n",
    "test_empty(cases_anomaly_2018)"
   ]
  },
  {
   "cell_type": "code",
   "execution_count": 11,
   "id": "db8abfa0-ee32-4d19-af0f-478ef093a0dd",
   "metadata": {},
   "outputs": [
    {
     "name": "stdout",
     "output_type": "stream",
     "text": [
      "No anomalies\n",
      "No anomalies\n",
      "No anomalies\n"
     ]
    }
   ],
   "source": [
    "# Does total population = male population + female population across each of the years?\n",
    "\n",
    "popn_anomaly_2008 = data[data[\"2008_pop_total\"] != data[\"2008_pop_male\"] + data[\"2008_pop_female\"]]\n",
    "popn_anomaly_2013 = data[data[\"2013_pop_total\"] != data[\"2013_pop_male\"] + data[\"2013_pop_female\"]]\n",
    "popn_anomaly_2018 = data[data[\"2018_pop_total\"] != data[\"2018_pop_male\"] + data[\"2018_pop_female\"]]\n",
    "\n",
    "test_empty(popn_anomaly_2008) \n",
    "test_empty(popn_anomaly_2013)\n",
    "test_empty(popn_anomaly_2018)"
   ]
  },
  {
   "cell_type": "code",
   "execution_count": 12,
   "id": "15d645bc-1a23-4edf-9e0d-25bf25019004",
   "metadata": {},
   "outputs": [
    {
     "name": "stdout",
     "output_type": "stream",
     "text": [
      "No anomalies\n"
     ]
    }
   ],
   "source": [
    "# Does total budget = sum of spending on each of the 6 spending categories?\n",
    "\n",
    "spend_anomaly = data[data[\"total_budget\"] != \n",
    "                     data[\"clean_air\"] + \n",
    "                     data[\"clean_environ\"] + \n",
    "                     data[\"health_training\"] +\n",
    "                     data[\"school_awareness\"] +\n",
    "                     data[\"media_awareness\"] +\n",
    "                     data[\"sub_counselling\"]]\n",
    "\n",
    "test_empty(spend_anomaly)"
   ]
  },
  {
   "cell_type": "markdown",
   "id": "7fc75749-0d9b-45f0-acb9-8feaa274ba6b",
   "metadata": {},
   "source": [
    "## 3. The \"Standardised\" dataset for the period of interest (2018)<a class=\"anchor\" id=\"section3\"></a>"
   ]
  },
  {
   "cell_type": "markdown",
   "id": "19ff42d9-242c-48d4-91a4-672bd6016b98",
   "metadata": {},
   "source": [
    "### 3.1. Calculate incidence rates and spend per capita (scaled per 100k of the population)"
   ]
  },
  {
   "cell_type": "code",
   "execution_count": 13,
   "id": "42e386a1-2438-4932-9890-fe70115b2bea",
   "metadata": {},
   "outputs": [],
   "source": [
    "# For 2018, calculate the following for each local authority area as new columns in the dataframe:\n",
    "# cases per 100,000 of the total population \n",
    "# cases per 100,000 of the male population and the same for female\n",
    "# spend per 100,000 of the population for each of the 6 spending categories\n",
    "\n",
    "scale_factor = 100000\n",
    "\n",
    "# 2018 incidence rate per 100k for total population\n",
    "data[\"2018_incidence_total\"] = data[\"2018_cases_total\"] / data[\"2018_pop_total\"] * scale_factor\n",
    "\n",
    "# 2018 incidence rate per 100k for males\n",
    "data[\"2018_incidence_male\"] = data[\"2018_cases_male\"] / data[\"2018_pop_male\"] * scale_factor\n",
    "\n",
    "# 2018 incidence rate per 100k for females\n",
    "data[\"2018_incidence_female\"] = data[\"2018_cases_female\"] / data[\"2018_pop_female\"] * scale_factor\n",
    "\n",
    "\n",
    "# 2018 spend per 100k of the population for each spending category\n",
    "data[\"2018_clean_air_scaled\"] = data[\"clean_air\"] / data[\"2018_pop_total\"] * scale_factor\n",
    "data[\"2018_clean_environ_scaled\"] = data[\"clean_environ\"] / data[\"2018_pop_total\"] * scale_factor\n",
    "data[\"2018_health_training_scaled\"] = data[\"health_training\"] / data[\"2018_pop_total\"] * scale_factor\n",
    "data[\"2018_school_awareness_scaled\"] = data[\"school_awareness\"] / data[\"2018_pop_total\"] * scale_factor\n",
    "data[\"2018_media_awareness_scaled\"] = data[\"media_awareness\"] / data[\"2018_pop_total\"] * scale_factor\n",
    "data[\"2018_sub_counselling_scaled\"] = data[\"sub_counselling\"] / data[\"2018_pop_total\"] * scale_factor"
   ]
  },
  {
   "cell_type": "markdown",
   "id": "3c147371-b0e9-40b9-bf29-9bd84a1e1d51",
   "metadata": {},
   "source": [
    "### 3.2. Create the Standardised subset of the dataframe"
   ]
  },
  {
   "cell_type": "code",
   "execution_count": 14,
   "id": "d1401c07-0b4e-4c54-b5f3-8b0df4233173",
   "metadata": {
    "tags": []
   },
   "outputs": [],
   "source": [
    "# Make a new dataframe consisting of a subset of the data in order to conduct the principal component analysis\n",
    "# Drop all columns \"2008_cases_total\" to \"sub_counselling\" inclusive\n",
    "# Also drop \"2018_incidence_total as we will use incidence by gender for the PCA\n",
    "# Decided to do it this way rather than dropping columns in place in case data turns out to be unsuitable for PCA\n",
    "# Previous form of the data can then be returned to easily\n",
    "\n",
    "#ran drop twice as could not work out how to drop both a column range and a single column \n",
    "data_pca = data.drop(data.loc[:, \"2008_cases_total\":\"sub_counselling\"].columns, axis = 1)\n",
    "data_pca = data_pca.drop([\"2018_incidence_total\"], axis = 1)"
   ]
  },
  {
   "cell_type": "code",
   "execution_count": 15,
   "id": "403116b3-b2c3-48db-ad42-b9aab4555a84",
   "metadata": {},
   "outputs": [
    {
     "data": {
      "text/html": [
       "<div>\n",
       "<style scoped>\n",
       "    .dataframe tbody tr th:only-of-type {\n",
       "        vertical-align: middle;\n",
       "    }\n",
       "\n",
       "    .dataframe tbody tr th {\n",
       "        vertical-align: top;\n",
       "    }\n",
       "\n",
       "    .dataframe thead th {\n",
       "        text-align: right;\n",
       "    }\n",
       "</style>\n",
       "<table border=\"1\" class=\"dataframe\">\n",
       "  <thead>\n",
       "    <tr style=\"text-align: right;\">\n",
       "      <th></th>\n",
       "      <th>local_authority_area</th>\n",
       "      <th>region</th>\n",
       "      <th>local_authority_type</th>\n",
       "      <th>2018_incidence_male</th>\n",
       "      <th>2018_incidence_female</th>\n",
       "      <th>2018_clean_air_scaled</th>\n",
       "      <th>2018_clean_environ_scaled</th>\n",
       "      <th>2018_health_training_scaled</th>\n",
       "      <th>2018_school_awareness_scaled</th>\n",
       "      <th>2018_media_awareness_scaled</th>\n",
       "      <th>2018_sub_counselling_scaled</th>\n",
       "    </tr>\n",
       "  </thead>\n",
       "  <tbody>\n",
       "    <tr>\n",
       "      <th>0</th>\n",
       "      <td>Barking and Dagenham</td>\n",
       "      <td>London</td>\n",
       "      <td>london_borough</td>\n",
       "      <td>294.936076</td>\n",
       "      <td>513.507264</td>\n",
       "      <td>11552.489562</td>\n",
       "      <td>12102.608112</td>\n",
       "      <td>9902.133910</td>\n",
       "      <td>22554.860572</td>\n",
       "      <td>9902.133910</td>\n",
       "      <td>10452.252460</td>\n",
       "    </tr>\n",
       "    <tr>\n",
       "      <th>1</th>\n",
       "      <td>Barnet</td>\n",
       "      <td>London</td>\n",
       "      <td>london_borough</td>\n",
       "      <td>180.504299</td>\n",
       "      <td>247.700658</td>\n",
       "      <td>14046.719389</td>\n",
       "      <td>4775.884592</td>\n",
       "      <td>6461.490919</td>\n",
       "      <td>20789.144695</td>\n",
       "      <td>8428.031633</td>\n",
       "      <td>7304.294082</td>\n",
       "    </tr>\n",
       "    <tr>\n",
       "      <th>2</th>\n",
       "      <td>Barnsley</td>\n",
       "      <td>Yorkshire and the Humber</td>\n",
       "      <td>metropolitan_borough</td>\n",
       "      <td>166.856873</td>\n",
       "      <td>240.774146</td>\n",
       "      <td>15898.682736</td>\n",
       "      <td>17449.773735</td>\n",
       "      <td>1938.863748</td>\n",
       "      <td>10082.091491</td>\n",
       "      <td>11245.409740</td>\n",
       "      <td>5428.818495</td>\n",
       "    </tr>\n",
       "    <tr>\n",
       "      <th>3</th>\n",
       "      <td>Bath and North East Somerset</td>\n",
       "      <td>South West</td>\n",
       "      <td>unitary_authority</td>\n",
       "      <td>171.636044</td>\n",
       "      <td>343.342408</td>\n",
       "      <td>17429.516093</td>\n",
       "      <td>22183.020482</td>\n",
       "      <td>10035.175932</td>\n",
       "      <td>26408.357717</td>\n",
       "      <td>5281.671543</td>\n",
       "      <td>3697.170080</td>\n",
       "    </tr>\n",
       "    <tr>\n",
       "      <th>4</th>\n",
       "      <td>Bedford</td>\n",
       "      <td>East of England</td>\n",
       "      <td>unitary_authority</td>\n",
       "      <td>188.841410</td>\n",
       "      <td>240.171193</td>\n",
       "      <td>21705.590069</td>\n",
       "      <td>30505.153611</td>\n",
       "      <td>9972.838681</td>\n",
       "      <td>4693.100556</td>\n",
       "      <td>1759.912708</td>\n",
       "      <td>7626.288403</td>\n",
       "    </tr>\n",
       "    <tr>\n",
       "      <th>...</th>\n",
       "      <td>...</td>\n",
       "      <td>...</td>\n",
       "      <td>...</td>\n",
       "      <td>...</td>\n",
       "      <td>...</td>\n",
       "      <td>...</td>\n",
       "      <td>...</td>\n",
       "      <td>...</td>\n",
       "      <td>...</td>\n",
       "      <td>...</td>\n",
       "      <td>...</td>\n",
       "    </tr>\n",
       "    <tr>\n",
       "      <th>147</th>\n",
       "      <td>Wirral</td>\n",
       "      <td>North West</td>\n",
       "      <td>metropolitan_borough</td>\n",
       "      <td>658.637224</td>\n",
       "      <td>1078.216479</td>\n",
       "      <td>20163.646990</td>\n",
       "      <td>13734.658095</td>\n",
       "      <td>8766.803039</td>\n",
       "      <td>11981.297487</td>\n",
       "      <td>4091.174752</td>\n",
       "      <td>2337.814144</td>\n",
       "    </tr>\n",
       "    <tr>\n",
       "      <th>148</th>\n",
       "      <td>Wokingham</td>\n",
       "      <td>South East</td>\n",
       "      <td>unitary_authority</td>\n",
       "      <td>83.253600</td>\n",
       "      <td>118.315741</td>\n",
       "      <td>11998.536179</td>\n",
       "      <td>24596.999166</td>\n",
       "      <td>7799.048516</td>\n",
       "      <td>11398.609370</td>\n",
       "      <td>5999.268089</td>\n",
       "      <td>3599.560854</td>\n",
       "    </tr>\n",
       "    <tr>\n",
       "      <th>149</th>\n",
       "      <td>Wolverhampton</td>\n",
       "      <td>West Midlands</td>\n",
       "      <td>metropolitan_borough</td>\n",
       "      <td>398.596810</td>\n",
       "      <td>879.064607</td>\n",
       "      <td>6817.226374</td>\n",
       "      <td>10225.839560</td>\n",
       "      <td>8710.900366</td>\n",
       "      <td>20830.413919</td>\n",
       "      <td>18936.739927</td>\n",
       "      <td>10604.574359</td>\n",
       "    </tr>\n",
       "    <tr>\n",
       "      <th>150</th>\n",
       "      <td>Worcestershire</td>\n",
       "      <td>West Midlands</td>\n",
       "      <td>non_metropolitan_county</td>\n",
       "      <td>377.582157</td>\n",
       "      <td>639.386591</td>\n",
       "      <td>20099.492488</td>\n",
       "      <td>17587.055927</td>\n",
       "      <td>8950.555248</td>\n",
       "      <td>11934.073665</td>\n",
       "      <td>10520.828099</td>\n",
       "      <td>4710.818552</td>\n",
       "    </tr>\n",
       "    <tr>\n",
       "      <th>151</th>\n",
       "      <td>York</td>\n",
       "      <td>Yorkshire and the Humber</td>\n",
       "      <td>unitary_authority</td>\n",
       "      <td>531.740166</td>\n",
       "      <td>781.393077</td>\n",
       "      <td>2357.567556</td>\n",
       "      <td>18389.026938</td>\n",
       "      <td>3772.108090</td>\n",
       "      <td>15088.432359</td>\n",
       "      <td>17445.999915</td>\n",
       "      <td>8958.756713</td>\n",
       "    </tr>\n",
       "  </tbody>\n",
       "</table>\n",
       "<p>152 rows × 11 columns</p>\n",
       "</div>"
      ],
      "text/plain": [
       "             local_authority_area                    region  \\\n",
       "0            Barking and Dagenham                    London   \n",
       "1                          Barnet                    London   \n",
       "2                        Barnsley  Yorkshire and the Humber   \n",
       "3    Bath and North East Somerset                South West   \n",
       "4                         Bedford           East of England   \n",
       "..                            ...                       ...   \n",
       "147                        Wirral                North West   \n",
       "148                     Wokingham                South East   \n",
       "149                 Wolverhampton             West Midlands   \n",
       "150                Worcestershire             West Midlands   \n",
       "151                          York  Yorkshire and the Humber   \n",
       "\n",
       "        local_authority_type  2018_incidence_male  2018_incidence_female  \\\n",
       "0             london_borough           294.936076             513.507264   \n",
       "1             london_borough           180.504299             247.700658   \n",
       "2       metropolitan_borough           166.856873             240.774146   \n",
       "3          unitary_authority           171.636044             343.342408   \n",
       "4          unitary_authority           188.841410             240.171193   \n",
       "..                       ...                  ...                    ...   \n",
       "147     metropolitan_borough           658.637224            1078.216479   \n",
       "148        unitary_authority            83.253600             118.315741   \n",
       "149     metropolitan_borough           398.596810             879.064607   \n",
       "150  non_metropolitan_county           377.582157             639.386591   \n",
       "151        unitary_authority           531.740166             781.393077   \n",
       "\n",
       "     2018_clean_air_scaled  2018_clean_environ_scaled  \\\n",
       "0             11552.489562               12102.608112   \n",
       "1             14046.719389                4775.884592   \n",
       "2             15898.682736               17449.773735   \n",
       "3             17429.516093               22183.020482   \n",
       "4             21705.590069               30505.153611   \n",
       "..                     ...                        ...   \n",
       "147           20163.646990               13734.658095   \n",
       "148           11998.536179               24596.999166   \n",
       "149            6817.226374               10225.839560   \n",
       "150           20099.492488               17587.055927   \n",
       "151            2357.567556               18389.026938   \n",
       "\n",
       "     2018_health_training_scaled  2018_school_awareness_scaled  \\\n",
       "0                    9902.133910                  22554.860572   \n",
       "1                    6461.490919                  20789.144695   \n",
       "2                    1938.863748                  10082.091491   \n",
       "3                   10035.175932                  26408.357717   \n",
       "4                    9972.838681                   4693.100556   \n",
       "..                           ...                           ...   \n",
       "147                  8766.803039                  11981.297487   \n",
       "148                  7799.048516                  11398.609370   \n",
       "149                  8710.900366                  20830.413919   \n",
       "150                  8950.555248                  11934.073665   \n",
       "151                  3772.108090                  15088.432359   \n",
       "\n",
       "     2018_media_awareness_scaled  2018_sub_counselling_scaled  \n",
       "0                    9902.133910                 10452.252460  \n",
       "1                    8428.031633                  7304.294082  \n",
       "2                   11245.409740                  5428.818495  \n",
       "3                    5281.671543                  3697.170080  \n",
       "4                    1759.912708                  7626.288403  \n",
       "..                           ...                          ...  \n",
       "147                  4091.174752                  2337.814144  \n",
       "148                  5999.268089                  3599.560854  \n",
       "149                 18936.739927                 10604.574359  \n",
       "150                 10520.828099                  4710.818552  \n",
       "151                 17445.999915                  8958.756713  \n",
       "\n",
       "[152 rows x 11 columns]"
      ]
     },
     "execution_count": 15,
     "metadata": {},
     "output_type": "execute_result"
    }
   ],
   "source": [
    "# Check that we obtain the expected dataframe \n",
    "data_pca"
   ]
  },
  {
   "cell_type": "markdown",
   "id": "9a0d062c-4968-493c-8efe-27412a51b0f4",
   "metadata": {},
   "source": [
    "### 3.3. Use descriptive statistics and plots to inspect Standardised \n"
   ]
  },
  {
   "cell_type": "code",
   "execution_count": 16,
   "id": "9616d678-3d01-4f3b-bd12-c57dbe3b3c88",
   "metadata": {},
   "outputs": [
    {
     "data": {
      "text/html": [
       "<div>\n",
       "<style scoped>\n",
       "    .dataframe tbody tr th:only-of-type {\n",
       "        vertical-align: middle;\n",
       "    }\n",
       "\n",
       "    .dataframe tbody tr th {\n",
       "        vertical-align: top;\n",
       "    }\n",
       "\n",
       "    .dataframe thead th {\n",
       "        text-align: right;\n",
       "    }\n",
       "</style>\n",
       "<table border=\"1\" class=\"dataframe\">\n",
       "  <thead>\n",
       "    <tr style=\"text-align: right;\">\n",
       "      <th></th>\n",
       "      <th>2018_incidence_male</th>\n",
       "      <th>2018_incidence_female</th>\n",
       "      <th>2018_clean_air_scaled</th>\n",
       "      <th>2018_clean_environ_scaled</th>\n",
       "      <th>2018_health_training_scaled</th>\n",
       "      <th>2018_school_awareness_scaled</th>\n",
       "      <th>2018_media_awareness_scaled</th>\n",
       "      <th>2018_sub_counselling_scaled</th>\n",
       "    </tr>\n",
       "  </thead>\n",
       "  <tbody>\n",
       "    <tr>\n",
       "      <th>count</th>\n",
       "      <td>152.00</td>\n",
       "      <td>152.00</td>\n",
       "      <td>152.00</td>\n",
       "      <td>152.00</td>\n",
       "      <td>152.00</td>\n",
       "      <td>152.00</td>\n",
       "      <td>152.00</td>\n",
       "      <td>152.00</td>\n",
       "    </tr>\n",
       "    <tr>\n",
       "      <th>mean</th>\n",
       "      <td>247.00</td>\n",
       "      <td>434.57</td>\n",
       "      <td>17,076.44</td>\n",
       "      <td>19,303.98</td>\n",
       "      <td>7,532.69</td>\n",
       "      <td>19,488.72</td>\n",
       "      <td>9,193.26</td>\n",
       "      <td>5,912.82</td>\n",
       "    </tr>\n",
       "    <tr>\n",
       "      <th>std</th>\n",
       "      <td>98.75</td>\n",
       "      <td>183.94</td>\n",
       "      <td>12,675.35</td>\n",
       "      <td>10,672.46</td>\n",
       "      <td>6,336.08</td>\n",
       "      <td>20,316.66</td>\n",
       "      <td>4,275.83</td>\n",
       "      <td>2,623.43</td>\n",
       "    </tr>\n",
       "    <tr>\n",
       "      <th>min</th>\n",
       "      <td>68.24</td>\n",
       "      <td>118.32</td>\n",
       "      <td>0.00</td>\n",
       "      <td>0.00</td>\n",
       "      <td>0.00</td>\n",
       "      <td>430.84</td>\n",
       "      <td>0.00</td>\n",
       "      <td>0.00</td>\n",
       "    </tr>\n",
       "    <tr>\n",
       "      <th>25%</th>\n",
       "      <td>181.17</td>\n",
       "      <td>303.53</td>\n",
       "      <td>12,056.89</td>\n",
       "      <td>13,041.21</td>\n",
       "      <td>4,677.81</td>\n",
       "      <td>13,052.72</td>\n",
       "      <td>5,968.99</td>\n",
       "      <td>3,874.65</td>\n",
       "    </tr>\n",
       "    <tr>\n",
       "      <th>50%</th>\n",
       "      <td>232.86</td>\n",
       "      <td>396.12</td>\n",
       "      <td>16,276.75</td>\n",
       "      <td>19,392.04</td>\n",
       "      <td>7,371.95</td>\n",
       "      <td>17,224.97</td>\n",
       "      <td>9,270.20</td>\n",
       "      <td>5,754.29</td>\n",
       "    </tr>\n",
       "    <tr>\n",
       "      <th>75%</th>\n",
       "      <td>292.17</td>\n",
       "      <td>513.73</td>\n",
       "      <td>20,115.53</td>\n",
       "      <td>23,773.14</td>\n",
       "      <td>8,937.34</td>\n",
       "      <td>21,753.55</td>\n",
       "      <td>11,809.85</td>\n",
       "      <td>7,309.24</td>\n",
       "    </tr>\n",
       "    <tr>\n",
       "      <th>max</th>\n",
       "      <td>658.64</td>\n",
       "      <td>1,078.22</td>\n",
       "      <td>148,020.23</td>\n",
       "      <td>111,015.17</td>\n",
       "      <td>74,010.11</td>\n",
       "      <td>246,700.38</td>\n",
       "      <td>24,670.04</td>\n",
       "      <td>18,456.22</td>\n",
       "    </tr>\n",
       "  </tbody>\n",
       "</table>\n",
       "</div>"
      ],
      "text/plain": [
       "       2018_incidence_male  2018_incidence_female  2018_clean_air_scaled  \\\n",
       "count               152.00                 152.00                 152.00   \n",
       "mean                247.00                 434.57              17,076.44   \n",
       "std                  98.75                 183.94              12,675.35   \n",
       "min                  68.24                 118.32                   0.00   \n",
       "25%                 181.17                 303.53              12,056.89   \n",
       "50%                 232.86                 396.12              16,276.75   \n",
       "75%                 292.17                 513.73              20,115.53   \n",
       "max                 658.64               1,078.22             148,020.23   \n",
       "\n",
       "       2018_clean_environ_scaled  2018_health_training_scaled  \\\n",
       "count                     152.00                       152.00   \n",
       "mean                   19,303.98                     7,532.69   \n",
       "std                    10,672.46                     6,336.08   \n",
       "min                         0.00                         0.00   \n",
       "25%                    13,041.21                     4,677.81   \n",
       "50%                    19,392.04                     7,371.95   \n",
       "75%                    23,773.14                     8,937.34   \n",
       "max                   111,015.17                    74,010.11   \n",
       "\n",
       "       2018_school_awareness_scaled  2018_media_awareness_scaled  \\\n",
       "count                        152.00                       152.00   \n",
       "mean                      19,488.72                     9,193.26   \n",
       "std                       20,316.66                     4,275.83   \n",
       "min                          430.84                         0.00   \n",
       "25%                       13,052.72                     5,968.99   \n",
       "50%                       17,224.97                     9,270.20   \n",
       "75%                       21,753.55                    11,809.85   \n",
       "max                      246,700.38                    24,670.04   \n",
       "\n",
       "       2018_sub_counselling_scaled  \n",
       "count                       152.00  \n",
       "mean                      5,912.82  \n",
       "std                       2,623.43  \n",
       "min                           0.00  \n",
       "25%                       3,874.65  \n",
       "50%                       5,754.29  \n",
       "75%                       7,309.24  \n",
       "max                      18,456.22  "
      ]
     },
     "execution_count": 16,
     "metadata": {},
     "output_type": "execute_result"
    }
   ],
   "source": [
    "# Run descriptive statistics on the data_pca subset\n",
    "numeric_cols = data_pca.select_dtypes(exclude = [\"object\"])\n",
    "pd.set_option('display.float_format',  '{:,.2f}'.format)\n",
    "numeric_cols.describe()"
   ]
  },
  {
   "cell_type": "code",
   "execution_count": 17,
   "id": "a73b021b-3841-4922-92f7-687102ced738",
   "metadata": {},
   "outputs": [],
   "source": [
    "# Visually inspect spread of data using boxplots to graph:\n",
    "# (a) Range of incidence rates by gender\n",
    "# (b) Range of spend per capita by each of the 6 different areas \n",
    "# Graph as two separate groups due to differing scales between incidence rates and spend per capita"
   ]
  },
  {
   "cell_type": "code",
   "execution_count": 18,
   "id": "932e9cab-323e-47f5-af24-18d5fe2c165d",
   "metadata": {},
   "outputs": [
    {
     "data": {
      "text/plain": [
       "Text(0, 0.5, 'Obesity Incidence per 100k of Popn.')"
      ]
     },
     "execution_count": 18,
     "metadata": {},
     "output_type": "execute_result"
    },
    {
     "data": {
      "image/png": "[encoded data removed]",
      "text/plain": [
       "<Figure size 432x288 with 1 Axes>"
      ]
     },
     "metadata": {},
     "output_type": "display_data"
    }
   ],
   "source": [
    "# Boxplots of incidence rates by gender\n",
    "\n",
    "sns.set(style = \"white\")\n",
    "gender_boxplot = sns.boxplot(data = data_pca.loc[:, [\"2018_incidence_male\", \"2018_incidence_female\"]],\n",
    "                             palette = \"Blues\")\n",
    "gender_boxplot.axes.set_title(\"2018 Childhood Obesity Incidence by Gender\", fontsize=12)\n",
    "gender_boxplot.set_xlabel(\"Gender\", fontsize=12)\n",
    "gender_boxplot.set_ylabel(\"Obesity Incidence per 100k of Popn.\", fontsize=12)"
   ]
  },
  {
   "cell_type": "code",
   "execution_count": 19,
   "id": "531ac4f1-39cd-45fd-913e-0d05ae3a533d",
   "metadata": {},
   "outputs": [
    {
     "data": {
      "text/plain": [
       "Text(0, 0.5, 'Spending Category')"
      ]
     },
     "execution_count": 19,
     "metadata": {},
     "output_type": "execute_result"
    },
    {
     "data": {
      "image/png": "[encoded data removed]",
      "text/plain": [
       "<Figure size 432x288 with 1 Axes>"
      ]
     },
     "metadata": {},
     "output_type": "display_data"
    }
   ],
   "source": [
    "# Boxplots of spend per capita by spending category\n",
    "\n",
    "sns.set(style = \"white\")\n",
    "spending_boxplot = sns.boxplot(data = data_pca.loc[:, \"2018_clean_air_scaled\" : \"2018_sub_counselling_scaled\"], \n",
    "                               orient = \"h\",\n",
    "                               palette = \"Blues\")\n",
    "spending_boxplot.axes.set_title(\"2018 Obesity Intervention Spending by Category\", fontsize=12)\n",
    "spending_boxplot.set_xlabel(\"Spend per 100k of Popn. (£)\", fontsize=12)\n",
    "spending_boxplot.set_ylabel(\"Spending Category\", fontsize=12)"
   ]
  },
  {
   "cell_type": "markdown",
   "id": "43fafcf3-3527-4c44-9a3e-100172b05ab3",
   "metadata": {},
   "source": [
    "### 3.4. Test for and remove outliers in Standardised dataset"
   ]
  },
  {
   "cell_type": "markdown",
   "id": "8f014edd-985a-4f62-99a4-84ba8126e70a",
   "metadata": {},
   "source": [
    "### 3.4.1. Define Tukey fences function"
   ]
  },
  {
   "cell_type": "code",
   "execution_count": 20,
   "id": "b5bd9ed6-d7bd-45e5-8f74-9ce746014312",
   "metadata": {},
   "outputs": [],
   "source": [
    "# Use Tukey fences to identify potential outliers\n",
    "\n",
    "# Function takes a dataframe, identifier column and column containing variable of interest\n",
    "# Function returns elements of a dataframe falling outside of (a) Tukey loswer and (b) Tukey upper fences\n",
    "\n",
    "def tukey_fences(data_set, identifier, variable):\n",
    "    Q1 = data_set[variable].quantile(0.25)\n",
    "    Q3 = data_set[variable].quantile(0.75)\n",
    "    IQR = Q3 - Q1\n",
    "    lower_inner_fence = Q1 - IQR * 1.5\n",
    "    lower_outer_fence = Q1 - IQR * 3\n",
    "    upper_inner_fence = Q3 + IQR * 1.5\n",
    "    upper_outer_fence = Q3 + IQR * 3\n",
    "    lower_inner_list = data_set[[identifier, variable]][data_set[variable] < lower_inner_fence]\n",
    "    lower_outer_list = data_set[[identifier, variable]][data_set[variable] < lower_outer_fence]\n",
    "    upper_inner_list = data_set[[identifier, variable]][data_set[variable] > upper_inner_fence]\n",
    "    upper_outer_list = data_set[[identifier, variable]][data_set[variable] > upper_outer_fence]\n",
    "    \n",
    "    return lower_inner_list, lower_outer_list, upper_inner_list, upper_outer_list\n"
   ]
  },
  {
   "cell_type": "markdown",
   "id": "7b993c4f-75d2-4f4a-a9e7-96aa1a42cf64",
   "metadata": {},
   "source": [
    "### 3.4.2. Use the tukey_fences function on each numeric variable:"
   ]
  },
  {
   "cell_type": "markdown",
   "id": "2f75bff3-bbf3-4188-a0ea-77b9f63100e2",
   "metadata": {},
   "source": [
    "#### 3.4.2.1. Male Incidence"
   ]
  },
  {
   "cell_type": "code",
   "execution_count": 21,
   "id": "7e0dc5e5-77a3-4f1e-b891-425734558f04",
   "metadata": {},
   "outputs": [
    {
     "data": {
      "text/plain": [
       "(Empty DataFrame\n",
       " Columns: [local_authority_area, 2018_incidence_male]\n",
       " Index: [],\n",
       " Empty DataFrame\n",
       " Columns: [local_authority_area, 2018_incidence_male]\n",
       " Index: [],\n",
       "     local_authority_area  2018_incidence_male\n",
       " 10           Bournemouth               464.02\n",
       " 91            Nottingham               465.41\n",
       " 92       Nottinghamshire               463.89\n",
       " 106              Salford               503.58\n",
       " 111               Slough               470.72\n",
       " 144                Wigan               585.62\n",
       " 147               Wirral               658.64\n",
       " 151                 York               531.74,\n",
       "     local_authority_area  2018_incidence_male\n",
       " 147               Wirral               658.64)"
      ]
     },
     "execution_count": 21,
     "metadata": {},
     "output_type": "execute_result"
    }
   ],
   "source": [
    "tukey_fences(data_pca, \"local_authority_area\", \"2018_incidence_male\")"
   ]
  },
  {
   "cell_type": "markdown",
   "id": "95b5e811-5029-4fdf-8172-c62499f52739",
   "metadata": {},
   "source": [
    "#### 3.4.2.2. Female Incidence"
   ]
  },
  {
   "cell_type": "code",
   "execution_count": 22,
   "id": "92133c4c-c1cf-49a2-af7f-63defd0ebee9",
   "metadata": {},
   "outputs": [
    {
     "data": {
      "text/plain": [
       "(Empty DataFrame\n",
       " Columns: [local_authority_area, 2018_incidence_female]\n",
       " Index: [],\n",
       " Empty DataFrame\n",
       " Columns: [local_authority_area, 2018_incidence_female]\n",
       " Index: [],\n",
       "       local_authority_area  2018_incidence_female\n",
       " 7    Blackburn with Darwen                 909.13\n",
       " 36                  Dudley                 834.98\n",
       " 91              Nottingham                 904.80\n",
       " 92         Nottinghamshire                 852.98\n",
       " 106                Salford                 853.02\n",
       " 144                  Wigan                 831.32\n",
       " 147                 Wirral               1,078.22\n",
       " 149          Wolverhampton                 879.06,\n",
       " Empty DataFrame\n",
       " Columns: [local_authority_area, 2018_incidence_female]\n",
       " Index: [])"
      ]
     },
     "execution_count": 22,
     "metadata": {},
     "output_type": "execute_result"
    }
   ],
   "source": [
    "tukey_fences(data_pca, \"local_authority_area\", \"2018_incidence_female\")"
   ]
  },
  {
   "cell_type": "markdown",
   "id": "ff959771-2d81-4791-bbef-09767f7019aa",
   "metadata": {},
   "source": [
    "#### 3.4.2.3. Clean Air"
   ]
  },
  {
   "cell_type": "code",
   "execution_count": 23,
   "id": "308da943-a504-475b-8f9c-50f00e5c6939",
   "metadata": {},
   "outputs": [
    {
     "data": {
      "text/plain": [
       "(Empty DataFrame\n",
       " Columns: [local_authority_area, 2018_clean_air_scaled]\n",
       " Index: [],\n",
       " Empty DataFrame\n",
       " Columns: [local_authority_area, 2018_clean_air_scaled]\n",
       " Index: [],\n",
       "     local_authority_area  2018_clean_air_scaled\n",
       " 25        City of London             148,020.23\n",
       " 52            Hartlepool              38,481.14\n",
       " 76            Manchester              32,629.07\n",
       " 105              Rutland              39,579.07,\n",
       "    local_authority_area  2018_clean_air_scaled\n",
       " 25       City of London             148,020.23)"
      ]
     },
     "execution_count": 23,
     "metadata": {},
     "output_type": "execute_result"
    }
   ],
   "source": [
    "tukey_fences(data_pca, \"local_authority_area\", \"2018_clean_air_scaled\")"
   ]
  },
  {
   "cell_type": "markdown",
   "id": "973782fc-bffd-4c2e-b254-a7cdd7f5f014",
   "metadata": {},
   "source": [
    "#### 3.4.2.4. Clean Environment"
   ]
  },
  {
   "cell_type": "code",
   "execution_count": 24,
   "id": "e715eff2-c524-4c1a-aca9-8de787de2225",
   "metadata": {},
   "outputs": [
    {
     "data": {
      "text/plain": [
       "(Empty DataFrame\n",
       " Columns: [local_authority_area, 2018_clean_environ_scaled]\n",
       " Index: [],\n",
       " Empty DataFrame\n",
       " Columns: [local_authority_area, 2018_clean_environ_scaled]\n",
       " Index: [],\n",
       "    local_authority_area  2018_clean_environ_scaled\n",
       " 25       City of London                 111,015.17\n",
       " 67              Lambeth                  41,915.90,\n",
       "    local_authority_area  2018_clean_environ_scaled\n",
       " 25       City of London                 111,015.17)"
      ]
     },
     "execution_count": 24,
     "metadata": {},
     "output_type": "execute_result"
    }
   ],
   "source": [
    "tukey_fences(data_pca, \"local_authority_area\", \"2018_clean_environ_scaled\")"
   ]
  },
  {
   "cell_type": "markdown",
   "id": "e9196ff2-c62c-4bc9-9d41-f23a31770658",
   "metadata": {},
   "source": [
    "#### 3.4.2.5. Health Training"
   ]
  },
  {
   "cell_type": "code",
   "execution_count": 25,
   "id": "03f5e12c-2229-4e0f-9088-652764a3b29e",
   "metadata": {},
   "outputs": [
    {
     "data": {
      "text/plain": [
       "(Empty DataFrame\n",
       " Columns: [local_authority_area, 2018_health_training_scaled]\n",
       " Index: [],\n",
       " Empty DataFrame\n",
       " Columns: [local_authority_area, 2018_health_training_scaled]\n",
       " Index: [],\n",
       "     local_authority_area  2018_health_training_scaled\n",
       " 25        City of London                    74,010.11\n",
       " 105              Rutland                    18,625.44\n",
       " 131             Thurrock                    19,176.40,\n",
       "    local_authority_area  2018_health_training_scaled\n",
       " 25       City of London                    74,010.11)"
      ]
     },
     "execution_count": 25,
     "metadata": {},
     "output_type": "execute_result"
    }
   ],
   "source": [
    "tukey_fences(data_pca, \"local_authority_area\", \"2018_health_training_scaled\")"
   ]
  },
  {
   "cell_type": "markdown",
   "id": "5b0b904f-24f5-4d47-9049-ef28d54782d7",
   "metadata": {},
   "source": [
    "#### 3.4.2.6. School Awareness"
   ]
  },
  {
   "cell_type": "code",
   "execution_count": 26,
   "id": "ef234ed5-f293-4eda-b05c-e725b52e114e",
   "metadata": {},
   "outputs": [
    {
     "data": {
      "text/plain": [
       "(Empty DataFrame\n",
       " Columns: [local_authority_area, 2018_school_awareness_scaled]\n",
       " Index: [],\n",
       " Empty DataFrame\n",
       " Columns: [local_authority_area, 2018_school_awareness_scaled]\n",
       " Index: [],\n",
       "    local_authority_area  2018_school_awareness_scaled\n",
       " 25       City of London                    246,700.38\n",
       " 59      Isles of Scilly                     81,967.21\n",
       " 81  Newcastle upon Tyne                     39,955.62,\n",
       "    local_authority_area  2018_school_awareness_scaled\n",
       " 25       City of London                    246,700.38\n",
       " 59      Isles of Scilly                     81,967.21)"
      ]
     },
     "execution_count": 26,
     "metadata": {},
     "output_type": "execute_result"
    }
   ],
   "source": [
    "tukey_fences(data_pca, \"local_authority_area\", \"2018_school_awareness_scaled\")"
   ]
  },
  {
   "cell_type": "markdown",
   "id": "a2f62916-acbe-425f-811b-90f31313a6c9",
   "metadata": {},
   "source": [
    "#### 3.4.2.7. Media Awareness"
   ]
  },
  {
   "cell_type": "code",
   "execution_count": 27,
   "id": "a28ceb9f-4b32-4879-8b63-d5f11fe0c28a",
   "metadata": {
    "tags": []
   },
   "outputs": [
    {
     "data": {
      "text/plain": [
       "(Empty DataFrame\n",
       " Columns: [local_authority_area, 2018_media_awareness_scaled]\n",
       " Index: [],\n",
       " Empty DataFrame\n",
       " Columns: [local_authority_area, 2018_media_awareness_scaled]\n",
       " Index: [],\n",
       "    local_authority_area  2018_media_awareness_scaled\n",
       " 25       City of London                    24,670.04\n",
       " 50             Haringey                    22,976.82,\n",
       " Empty DataFrame\n",
       " Columns: [local_authority_area, 2018_media_awareness_scaled]\n",
       " Index: [])"
      ]
     },
     "execution_count": 27,
     "metadata": {},
     "output_type": "execute_result"
    }
   ],
   "source": [
    "tukey_fences(data_pca, \"local_authority_area\", \"2018_media_awareness_scaled\")"
   ]
  },
  {
   "cell_type": "markdown",
   "id": "7a27986f-edb9-4e59-8541-da5ca73832b9",
   "metadata": {},
   "source": [
    "#### 3.4.2.8. Subsidised Counselling"
   ]
  },
  {
   "cell_type": "code",
   "execution_count": 28,
   "id": "1ed65dea-7627-4e18-afbf-57263c13f2db",
   "metadata": {},
   "outputs": [
    {
     "data": {
      "text/plain": [
       "(Empty DataFrame\n",
       " Columns: [local_authority_area, 2018_sub_counselling_scaled]\n",
       " Index: [],\n",
       " Empty DataFrame\n",
       " Columns: [local_authority_area, 2018_sub_counselling_scaled]\n",
       " Index: [],\n",
       "     local_authority_area  2018_sub_counselling_scaled\n",
       " 111               Slough                    18,456.22,\n",
       "     local_authority_area  2018_sub_counselling_scaled\n",
       " 111               Slough                    18,456.22)"
      ]
     },
     "execution_count": 28,
     "metadata": {},
     "output_type": "execute_result"
    }
   ],
   "source": [
    "tukey_fences(data_pca, \"local_authority_area\", \"2018_sub_counselling_scaled\")"
   ]
  },
  {
   "cell_type": "markdown",
   "id": "d7e6ab1f-79f1-4164-979b-7a8186655fca",
   "metadata": {},
   "source": [
    "### 3.4.3 Remove outliers"
   ]
  },
  {
   "cell_type": "code",
   "execution_count": 29,
   "id": "5961aa45-6eec-44df-bae3-4a405df82a4f",
   "metadata": {},
   "outputs": [],
   "source": [
    "# Drop rows for \"City of London\" and \"Isles of Scilly\" before proceeding with PCA analysis\n",
    "\n",
    "rows_to_drop = data_pca[\n",
    "    (data_pca[\"local_authority_area\"] == \"City of London\") | \n",
    "    ((data_pca[\"local_authority_area\"] == \"Isles of Scilly\"))].index\n",
    "\n",
    "data_pca.drop(rows_to_drop, inplace = True)"
   ]
  },
  {
   "cell_type": "code",
   "execution_count": 30,
   "id": "4e915e35-df1d-416f-ad8e-04ac16f66303",
   "metadata": {},
   "outputs": [
    {
     "name": "stdout",
     "output_type": "stream",
     "text": [
      "False\n",
      "False\n"
     ]
    }
   ],
   "source": [
    "# Check that it worked\n",
    "dropped = [\"City of London\", \"Isles of Scilly\"]\n",
    "\n",
    "for d in dropped:\n",
    "    print(d in data_pca[\"local_authority_area\"].values)\n"
   ]
  },
  {
   "cell_type": "code",
   "execution_count": 31,
   "id": "d8a55d25-f21e-41c4-aa61-bb2e9adf186c",
   "metadata": {},
   "outputs": [
    {
     "data": {
      "text/plain": [
       "<AxesSubplot:>"
      ]
     },
     "execution_count": 31,
     "metadata": {},
     "output_type": "execute_result"
    },
    {
     "data": {
      "image/png": "[encoded data removed]",
      "text/plain": [
       "<Figure size 432x288 with 1 Axes>"
      ]
     },
     "metadata": {},
     "output_type": "display_data"
    }
   ],
   "source": [
    "# Examine boxplots of per capita spending with outliers removed\n",
    "sns.set(style = \"white\")\n",
    "sns.boxplot(data = data_pca.loc[:, \"2018_clean_air_scaled\" : \"2018_sub_counselling_scaled\"], \n",
    "            orient = \"h\",\n",
    "            palette = \"Set2\")"
   ]
  },
  {
   "cell_type": "markdown",
   "id": "a5024e6f-df78-4ef0-8ae9-0e78affe0011",
   "metadata": {},
   "source": [
    "### 3.5. Test the suitability of Standardised for PCA"
   ]
  },
  {
   "cell_type": "markdown",
   "id": "5e36f922-4212-4875-b224-b0613d7c3731",
   "metadata": {},
   "source": [
    "### 3.5.1. Produce the correlation matrix and heatmap for Standardised"
   ]
  },
  {
   "cell_type": "code",
   "execution_count": 32,
   "id": "a01806ed-de8b-4382-9406-b28065df0b16",
   "metadata": {},
   "outputs": [],
   "source": [
    "# Opted for correlation matrix over covariance matrix as data is on different scales: obesity incidence vs spend per capita\n",
    "# No standardisation of variables required beforehand as computing correlation matrix will take care of this "
   ]
  },
  {
   "cell_type": "code",
   "execution_count": 33,
   "id": "217e0a71-481a-43ea-bd38-60b8b8ea5635",
   "metadata": {},
   "outputs": [],
   "source": [
    "# Create a dictionary for use in labelling plots:\n",
    "\n",
    "labels = {\"2018_incidence_male\" : \"M\",\n",
    "          \"2018_incidence_female\" : \"F\",\n",
    "          \"2018_clean_air_scaled\" : \"Air\",\n",
    "          \"2018_clean_environ_scaled\" : \"Env\",\n",
    "          \"2018_health_training_scaled\" : \"Hth\",\n",
    "          \"2018_school_awareness_scaled\" : \"Sch\",\n",
    "          \"2018_media_awareness_scaled\" : \"Med\",\n",
    "          \"2018_sub_counselling_scaled\" : \"Cns\",\n",
    "          }\n",
    "\n",
    "values = labels.values()"
   ]
  },
  {
   "cell_type": "code",
   "execution_count": 34,
   "id": "5fea58c7-c380-4c65-850e-b9f9166b906f",
   "metadata": {},
   "outputs": [],
   "source": [
    "data_pca_numeric = data_pca.loc[:, \"2018_incidence_male\" : \"2018_sub_counselling_scaled\"]"
   ]
  },
  {
   "cell_type": "code",
   "execution_count": 35,
   "id": "2582eed1-0508-4250-8626-9365e5ab3b7f",
   "metadata": {},
   "outputs": [],
   "source": [
    "corr_matrix = data_pca_numeric.corr()"
   ]
  },
  {
   "cell_type": "code",
   "execution_count": 36,
   "id": "479a1fbd-b56c-45eb-b68d-1c7e815cce77",
   "metadata": {},
   "outputs": [
    {
     "data": {
      "text/html": [
       "<div>\n",
       "<style scoped>\n",
       "    .dataframe tbody tr th:only-of-type {\n",
       "        vertical-align: middle;\n",
       "    }\n",
       "\n",
       "    .dataframe tbody tr th {\n",
       "        vertical-align: top;\n",
       "    }\n",
       "\n",
       "    .dataframe thead th {\n",
       "        text-align: right;\n",
       "    }\n",
       "</style>\n",
       "<table border=\"1\" class=\"dataframe\">\n",
       "  <thead>\n",
       "    <tr style=\"text-align: right;\">\n",
       "      <th></th>\n",
       "      <th>2018_incidence_male</th>\n",
       "      <th>2018_incidence_female</th>\n",
       "      <th>2018_clean_air_scaled</th>\n",
       "      <th>2018_clean_environ_scaled</th>\n",
       "      <th>2018_health_training_scaled</th>\n",
       "      <th>2018_school_awareness_scaled</th>\n",
       "      <th>2018_media_awareness_scaled</th>\n",
       "      <th>2018_sub_counselling_scaled</th>\n",
       "    </tr>\n",
       "  </thead>\n",
       "  <tbody>\n",
       "    <tr>\n",
       "      <th>2018_incidence_male</th>\n",
       "      <td>1.00</td>\n",
       "      <td>0.85</td>\n",
       "      <td>-0.06</td>\n",
       "      <td>-0.14</td>\n",
       "      <td>-0.06</td>\n",
       "      <td>0.03</td>\n",
       "      <td>0.13</td>\n",
       "      <td>0.05</td>\n",
       "    </tr>\n",
       "    <tr>\n",
       "      <th>2018_incidence_female</th>\n",
       "      <td>0.85</td>\n",
       "      <td>1.00</td>\n",
       "      <td>-0.08</td>\n",
       "      <td>-0.09</td>\n",
       "      <td>-0.04</td>\n",
       "      <td>-0.02</td>\n",
       "      <td>0.08</td>\n",
       "      <td>0.07</td>\n",
       "    </tr>\n",
       "    <tr>\n",
       "      <th>2018_clean_air_scaled</th>\n",
       "      <td>-0.06</td>\n",
       "      <td>-0.08</td>\n",
       "      <td>1.00</td>\n",
       "      <td>-0.18</td>\n",
       "      <td>-0.00</td>\n",
       "      <td>-0.14</td>\n",
       "      <td>-0.16</td>\n",
       "      <td>-0.08</td>\n",
       "    </tr>\n",
       "    <tr>\n",
       "      <th>2018_clean_environ_scaled</th>\n",
       "      <td>-0.14</td>\n",
       "      <td>-0.09</td>\n",
       "      <td>-0.18</td>\n",
       "      <td>1.00</td>\n",
       "      <td>-0.04</td>\n",
       "      <td>-0.39</td>\n",
       "      <td>-0.13</td>\n",
       "      <td>-0.11</td>\n",
       "    </tr>\n",
       "    <tr>\n",
       "      <th>2018_health_training_scaled</th>\n",
       "      <td>-0.06</td>\n",
       "      <td>-0.04</td>\n",
       "      <td>-0.00</td>\n",
       "      <td>-0.04</td>\n",
       "      <td>1.00</td>\n",
       "      <td>0.05</td>\n",
       "      <td>-0.04</td>\n",
       "      <td>0.05</td>\n",
       "    </tr>\n",
       "    <tr>\n",
       "      <th>2018_school_awareness_scaled</th>\n",
       "      <td>0.03</td>\n",
       "      <td>-0.02</td>\n",
       "      <td>-0.14</td>\n",
       "      <td>-0.39</td>\n",
       "      <td>0.05</td>\n",
       "      <td>1.00</td>\n",
       "      <td>0.01</td>\n",
       "      <td>0.10</td>\n",
       "    </tr>\n",
       "    <tr>\n",
       "      <th>2018_media_awareness_scaled</th>\n",
       "      <td>0.13</td>\n",
       "      <td>0.08</td>\n",
       "      <td>-0.16</td>\n",
       "      <td>-0.13</td>\n",
       "      <td>-0.04</td>\n",
       "      <td>0.01</td>\n",
       "      <td>1.00</td>\n",
       "      <td>0.12</td>\n",
       "    </tr>\n",
       "    <tr>\n",
       "      <th>2018_sub_counselling_scaled</th>\n",
       "      <td>0.05</td>\n",
       "      <td>0.07</td>\n",
       "      <td>-0.08</td>\n",
       "      <td>-0.11</td>\n",
       "      <td>0.05</td>\n",
       "      <td>0.10</td>\n",
       "      <td>0.12</td>\n",
       "      <td>1.00</td>\n",
       "    </tr>\n",
       "  </tbody>\n",
       "</table>\n",
       "</div>"
      ],
      "text/plain": [
       "                              2018_incidence_male  2018_incidence_female  \\\n",
       "2018_incidence_male                          1.00                   0.85   \n",
       "2018_incidence_female                        0.85                   1.00   \n",
       "2018_clean_air_scaled                       -0.06                  -0.08   \n",
       "2018_clean_environ_scaled                   -0.14                  -0.09   \n",
       "2018_health_training_scaled                 -0.06                  -0.04   \n",
       "2018_school_awareness_scaled                 0.03                  -0.02   \n",
       "2018_media_awareness_scaled                  0.13                   0.08   \n",
       "2018_sub_counselling_scaled                  0.05                   0.07   \n",
       "\n",
       "                              2018_clean_air_scaled  \\\n",
       "2018_incidence_male                           -0.06   \n",
       "2018_incidence_female                         -0.08   \n",
       "2018_clean_air_scaled                          1.00   \n",
       "2018_clean_environ_scaled                     -0.18   \n",
       "2018_health_training_scaled                   -0.00   \n",
       "2018_school_awareness_scaled                  -0.14   \n",
       "2018_media_awareness_scaled                   -0.16   \n",
       "2018_sub_counselling_scaled                   -0.08   \n",
       "\n",
       "                              2018_clean_environ_scaled  \\\n",
       "2018_incidence_male                               -0.14   \n",
       "2018_incidence_female                             -0.09   \n",
       "2018_clean_air_scaled                             -0.18   \n",
       "2018_clean_environ_scaled                          1.00   \n",
       "2018_health_training_scaled                       -0.04   \n",
       "2018_school_awareness_scaled                      -0.39   \n",
       "2018_media_awareness_scaled                       -0.13   \n",
       "2018_sub_counselling_scaled                       -0.11   \n",
       "\n",
       "                              2018_health_training_scaled  \\\n",
       "2018_incidence_male                                 -0.06   \n",
       "2018_incidence_female                               -0.04   \n",
       "2018_clean_air_scaled                               -0.00   \n",
       "2018_clean_environ_scaled                           -0.04   \n",
       "2018_health_training_scaled                          1.00   \n",
       "2018_school_awareness_scaled                         0.05   \n",
       "2018_media_awareness_scaled                         -0.04   \n",
       "2018_sub_counselling_scaled                          0.05   \n",
       "\n",
       "                              2018_school_awareness_scaled  \\\n",
       "2018_incidence_male                                   0.03   \n",
       "2018_incidence_female                                -0.02   \n",
       "2018_clean_air_scaled                                -0.14   \n",
       "2018_clean_environ_scaled                            -0.39   \n",
       "2018_health_training_scaled                           0.05   \n",
       "2018_school_awareness_scaled                          1.00   \n",
       "2018_media_awareness_scaled                           0.01   \n",
       "2018_sub_counselling_scaled                           0.10   \n",
       "\n",
       "                              2018_media_awareness_scaled  \\\n",
       "2018_incidence_male                                  0.13   \n",
       "2018_incidence_female                                0.08   \n",
       "2018_clean_air_scaled                               -0.16   \n",
       "2018_clean_environ_scaled                           -0.13   \n",
       "2018_health_training_scaled                         -0.04   \n",
       "2018_school_awareness_scaled                         0.01   \n",
       "2018_media_awareness_scaled                          1.00   \n",
       "2018_sub_counselling_scaled                          0.12   \n",
       "\n",
       "                              2018_sub_counselling_scaled  \n",
       "2018_incidence_male                                  0.05  \n",
       "2018_incidence_female                                0.07  \n",
       "2018_clean_air_scaled                               -0.08  \n",
       "2018_clean_environ_scaled                           -0.11  \n",
       "2018_health_training_scaled                          0.05  \n",
       "2018_school_awareness_scaled                         0.10  \n",
       "2018_media_awareness_scaled                          0.12  \n",
       "2018_sub_counselling_scaled                          1.00  "
      ]
     },
     "execution_count": 36,
     "metadata": {},
     "output_type": "execute_result"
    }
   ],
   "source": [
    "corr_matrix"
   ]
  },
  {
   "cell_type": "code",
   "execution_count": 37,
   "id": "516cb3bb-7906-46de-b3e0-15e0132a08a2",
   "metadata": {},
   "outputs": [
    {
     "data": {
      "text/plain": [
       "Text(0.5, 1.0, 'Standardised: Triangle Correlation Heatmap')"
      ]
     },
     "execution_count": 37,
     "metadata": {},
     "output_type": "execute_result"
    },
    {
     "data": {
      "image/png": "[encoded data removed]",
      "text/plain": [
       "<Figure size 576x432 with 2 Axes>"
      ]
     },
     "metadata": {},
     "output_type": "display_data"
    }
   ],
   "source": [
    "# Use Seaborn to produce diagonal correlation heatmap\n",
    "# I find the diagonal ones easier to focus on \n",
    "# Tried a custom diverging colour palette to de-emphasise low correlation pairs\n",
    "\n",
    "plot.figure(figsize = (8, 6))\n",
    "\n",
    "mask = np.triu(np.ones_like(corr_matrix, dtype = bool))\n",
    "\n",
    "custom_palette = sns.diverging_palette(220, 20, as_cmap=True)\n",
    "\n",
    "corr_heatmap = sns.heatmap(corr_matrix, \n",
    "                           mask = mask, \n",
    "                           vmin = -1, \n",
    "                           vmax = 1,\n",
    "                           annot = True,\n",
    "                           fmt = \".2f\",\n",
    "                           cmap = custom_palette,\n",
    "                           xticklabels = values,\n",
    "                           yticklabels = values,\n",
    "                           )\n",
    "\n",
    "corr_heatmap.set_title(\"Standardised: Triangle Correlation Heatmap\",\n",
    "                       fontdict = {\"fontsize\" : 18},\n",
    "                       pad = 16)"
   ]
  },
  {
   "cell_type": "markdown",
   "id": "7b063668-db6f-4bdb-8727-a53bdba96420",
   "metadata": {},
   "source": [
    "### 3.5.2. Test for positivity of the correlation matrix"
   ]
  },
  {
   "cell_type": "code",
   "execution_count": 38,
   "id": "6b7fdada-a60d-4296-92b7-de5617a9b237",
   "metadata": {},
   "outputs": [
    {
     "name": "stdout",
     "output_type": "stream",
     "text": [
      "The determinant of the correlation matrix to 2dp is: 0.18\n"
     ]
    }
   ],
   "source": [
    "# Test that the determinant of the correlation matrix is +ve\n",
    "# This allows variance to be extracted \n",
    "\n",
    "det_corr_matrix = np.linalg.det(corr_matrix)\n",
    "print(f\"The determinant of the correlation matrix to 2dp is: {det_corr_matrix:.2f}\")"
   ]
  },
  {
   "cell_type": "markdown",
   "id": "4177af93-1ce9-42ad-93ce-d0bbef266e0b",
   "metadata": {},
   "source": [
    "### 3.5.3. Perform Bartlett's Test of Sphericity"
   ]
  },
  {
   "cell_type": "code",
   "execution_count": 39,
   "id": "8b895066-cf60-4798-915d-e1da04cf551d",
   "metadata": {},
   "outputs": [
    {
     "name": "stdout",
     "output_type": "stream",
     "text": [
      "The Chi-Square statistic to 2dp is: 256.44\n",
      "The p-value to 2dp is: 0.00\n"
     ]
    }
   ],
   "source": [
    "from factor_analyzer.factor_analyzer import calculate_bartlett_sphericity\n",
    "chi_square_value,p_value = calculate_bartlett_sphericity(data_pca_numeric)\n",
    "\n",
    "print(f\"The Chi-Square statistic to 2dp is: {chi_square_value:.2f}\")\n",
    "print(f\"The p-value to 2dp is: {p_value:.2f}\")\n"
   ]
  },
  {
   "cell_type": "markdown",
   "id": "870148b6-733f-4dd5-b726-8fe8442cd7ae",
   "metadata": {},
   "source": [
    "### 3.5.4. Calculate Kaiser-Meyer-Olkin (KMO) value"
   ]
  },
  {
   "cell_type": "code",
   "execution_count": 40,
   "id": "5ffe2489-9313-441e-8a3f-ca3cca35e28b",
   "metadata": {},
   "outputs": [
    {
     "name": "stdout",
     "output_type": "stream",
     "text": [
      "The KMO value to 2dp is: 0.47\n"
     ]
    }
   ],
   "source": [
    "from factor_analyzer.factor_analyzer import calculate_kmo\n",
    "kmo_all,kmo_model=calculate_kmo(data_pca_numeric)\n",
    "\n",
    "print(f\"The KMO value to 2dp is: {kmo_model:.2f}\")\n"
   ]
  },
  {
   "cell_type": "markdown",
   "id": "353c2ff9-9d72-4c72-97be-74f3d49219a1",
   "metadata": {},
   "source": [
    "### 3.5.5. Conclusion from Testing"
   ]
  },
  {
   "cell_type": "code",
   "execution_count": 41,
   "id": "90d1be78-0cba-4b17-b9dd-9b3a385de70b",
   "metadata": {},
   "outputs": [],
   "source": [
    "# Standardised dataset looks to be unsuitable for PCA based on:\n",
    "# Low pairwise correlations as evidenced by heatmap\n",
    "# Low KMO value below the minimum recommended threshold of 0.6"
   ]
  },
  {
   "cell_type": "markdown",
   "id": "fdb2aabc-3cb3-40a3-b25f-9c6cea5a2f13",
   "metadata": {},
   "source": [
    "## 4. The \"Gendered Raw\" dataset for the period of interest (2018)<a class=\"anchor\" id=\"section4\"></a>"
   ]
  },
  {
   "cell_type": "markdown",
   "id": "18f2d1fc-53e9-4ae9-a0d9-ba1e61a10d7f",
   "metadata": {},
   "source": [
    "### 4.1. Create the \"Gendered Raw\" subset of the data"
   ]
  },
  {
   "cell_type": "code",
   "execution_count": 42,
   "id": "4389b189-dcb7-4b32-9f66-e2f262a52a07",
   "metadata": {},
   "outputs": [],
   "source": [
    "# create unscaled dataset with same layout as for Standardised but with raw counts\n",
    "\n",
    "data_pca_unscaled = data.copy(deep = True)\n",
    "data_pca_unscaled.insert(1, \"region\", data_pca_unscaled.pop(\"region\"))\n",
    "data_pca_unscaled.insert(2, \"local_authority_type\", data_pca_unscaled.pop(\"local_authority_type\"))\n",
    "data_pca_unscaled = data_pca_unscaled.drop(data_pca_unscaled.loc[:, \"2008_cases_total\":\"2013_cases_male\"].columns, axis = 1)\n",
    "data_pca_unscaled = data_pca_unscaled.drop(data_pca_unscaled.loc[:, \"2008_pop_male\":\"2013_cases_female\"].columns, axis = 1)\n",
    "data_pca_unscaled = data_pca_unscaled.drop(data_pca_unscaled.loc[:, \"2008_pop_female\":\"total_budget\"].columns, axis = 1)\n",
    "data_pca_unscaled = data_pca_unscaled.drop(data_pca_unscaled.loc[:, \"2018_incidence_total\":\"2018_sub_counselling_scaled\"].columns, axis = 1)"
   ]
  },
  {
   "cell_type": "code",
   "execution_count": 43,
   "id": "df70cfc3-39c1-4639-b858-e1d1fef658eb",
   "metadata": {},
   "outputs": [
    {
     "data": {
      "text/html": [
       "<div>\n",
       "<style scoped>\n",
       "    .dataframe tbody tr th:only-of-type {\n",
       "        vertical-align: middle;\n",
       "    }\n",
       "\n",
       "    .dataframe tbody tr th {\n",
       "        vertical-align: top;\n",
       "    }\n",
       "\n",
       "    .dataframe thead th {\n",
       "        text-align: right;\n",
       "    }\n",
       "</style>\n",
       "<table border=\"1\" class=\"dataframe\">\n",
       "  <thead>\n",
       "    <tr style=\"text-align: right;\">\n",
       "      <th></th>\n",
       "      <th>local_authority_area</th>\n",
       "      <th>region</th>\n",
       "      <th>local_authority_type</th>\n",
       "      <th>2018_cases_male</th>\n",
       "      <th>2018_cases_female</th>\n",
       "      <th>clean_air</th>\n",
       "      <th>clean_environ</th>\n",
       "      <th>health_training</th>\n",
       "      <th>school_awareness</th>\n",
       "      <th>media_awareness</th>\n",
       "      <th>sub_counselling</th>\n",
       "    </tr>\n",
       "  </thead>\n",
       "  <tbody>\n",
       "    <tr>\n",
       "      <th>0</th>\n",
       "      <td>Barking and Dagenham</td>\n",
       "      <td>London</td>\n",
       "      <td>london_borough</td>\n",
       "      <td>230</td>\n",
       "      <td>533</td>\n",
       "      <td>21000</td>\n",
       "      <td>22000</td>\n",
       "      <td>18000</td>\n",
       "      <td>41000</td>\n",
       "      <td>18000</td>\n",
       "      <td>19000</td>\n",
       "    </tr>\n",
       "    <tr>\n",
       "      <th>1</th>\n",
       "      <td>Barnet</td>\n",
       "      <td>London</td>\n",
       "      <td>london_borough</td>\n",
       "      <td>292</td>\n",
       "      <td>481</td>\n",
       "      <td>50000</td>\n",
       "      <td>17000</td>\n",
       "      <td>23000</td>\n",
       "      <td>74000</td>\n",
       "      <td>30000</td>\n",
       "      <td>26000</td>\n",
       "    </tr>\n",
       "    <tr>\n",
       "      <th>2</th>\n",
       "      <td>Barnsley</td>\n",
       "      <td>Yorkshire and the Humber</td>\n",
       "      <td>metropolitan_borough</td>\n",
       "      <td>212</td>\n",
       "      <td>315</td>\n",
       "      <td>41000</td>\n",
       "      <td>45000</td>\n",
       "      <td>5000</td>\n",
       "      <td>26000</td>\n",
       "      <td>29000</td>\n",
       "      <td>14000</td>\n",
       "    </tr>\n",
       "    <tr>\n",
       "      <th>3</th>\n",
       "      <td>Bath and North East Somerset</td>\n",
       "      <td>South West</td>\n",
       "      <td>unitary_authority</td>\n",
       "      <td>156</td>\n",
       "      <td>338</td>\n",
       "      <td>33000</td>\n",
       "      <td>42000</td>\n",
       "      <td>19000</td>\n",
       "      <td>50000</td>\n",
       "      <td>10000</td>\n",
       "      <td>7000</td>\n",
       "    </tr>\n",
       "    <tr>\n",
       "      <th>4</th>\n",
       "      <td>Bedford</td>\n",
       "      <td>East of England</td>\n",
       "      <td>unitary_authority</td>\n",
       "      <td>156</td>\n",
       "      <td>211</td>\n",
       "      <td>37000</td>\n",
       "      <td>52000</td>\n",
       "      <td>17000</td>\n",
       "      <td>8000</td>\n",
       "      <td>3000</td>\n",
       "      <td>13000</td>\n",
       "    </tr>\n",
       "    <tr>\n",
       "      <th>...</th>\n",
       "      <td>...</td>\n",
       "      <td>...</td>\n",
       "      <td>...</td>\n",
       "      <td>...</td>\n",
       "      <td>...</td>\n",
       "      <td>...</td>\n",
       "      <td>...</td>\n",
       "      <td>...</td>\n",
       "      <td>...</td>\n",
       "      <td>...</td>\n",
       "      <td>...</td>\n",
       "    </tr>\n",
       "    <tr>\n",
       "      <th>147</th>\n",
       "      <td>Wirral</td>\n",
       "      <td>North West</td>\n",
       "      <td>metropolitan_borough</td>\n",
       "      <td>1103</td>\n",
       "      <td>1884</td>\n",
       "      <td>69000</td>\n",
       "      <td>47000</td>\n",
       "      <td>30000</td>\n",
       "      <td>41000</td>\n",
       "      <td>14000</td>\n",
       "      <td>8000</td>\n",
       "    </tr>\n",
       "    <tr>\n",
       "      <th>148</th>\n",
       "      <td>Wokingham</td>\n",
       "      <td>South East</td>\n",
       "      <td>unitary_authority</td>\n",
       "      <td>67</td>\n",
       "      <td>102</td>\n",
       "      <td>20000</td>\n",
       "      <td>41000</td>\n",
       "      <td>13000</td>\n",
       "      <td>19000</td>\n",
       "      <td>10000</td>\n",
       "      <td>6000</td>\n",
       "    </tr>\n",
       "    <tr>\n",
       "      <th>149</th>\n",
       "      <td>Wolverhampton</td>\n",
       "      <td>West Midlands</td>\n",
       "      <td>metropolitan_borough</td>\n",
       "      <td>492</td>\n",
       "      <td>1236</td>\n",
       "      <td>18000</td>\n",
       "      <td>27000</td>\n",
       "      <td>23000</td>\n",
       "      <td>55000</td>\n",
       "      <td>50000</td>\n",
       "      <td>28000</td>\n",
       "    </tr>\n",
       "    <tr>\n",
       "      <th>150</th>\n",
       "      <td>Worcestershire</td>\n",
       "      <td>West Midlands</td>\n",
       "      <td>non_metropolitan_county</td>\n",
       "      <td>1204</td>\n",
       "      <td>2033</td>\n",
       "      <td>128000</td>\n",
       "      <td>112000</td>\n",
       "      <td>57000</td>\n",
       "      <td>76000</td>\n",
       "      <td>67000</td>\n",
       "      <td>30000</td>\n",
       "    </tr>\n",
       "    <tr>\n",
       "      <th>151</th>\n",
       "      <td>York</td>\n",
       "      <td>Yorkshire and the Humber</td>\n",
       "      <td>unitary_authority</td>\n",
       "      <td>518</td>\n",
       "      <td>896</td>\n",
       "      <td>5000</td>\n",
       "      <td>39000</td>\n",
       "      <td>8000</td>\n",
       "      <td>32000</td>\n",
       "      <td>37000</td>\n",
       "      <td>19000</td>\n",
       "    </tr>\n",
       "  </tbody>\n",
       "</table>\n",
       "<p>152 rows × 11 columns</p>\n",
       "</div>"
      ],
      "text/plain": [
       "             local_authority_area                    region  \\\n",
       "0            Barking and Dagenham                    London   \n",
       "1                          Barnet                    London   \n",
       "2                        Barnsley  Yorkshire and the Humber   \n",
       "3    Bath and North East Somerset                South West   \n",
       "4                         Bedford           East of England   \n",
       "..                            ...                       ...   \n",
       "147                        Wirral                North West   \n",
       "148                     Wokingham                South East   \n",
       "149                 Wolverhampton             West Midlands   \n",
       "150                Worcestershire             West Midlands   \n",
       "151                          York  Yorkshire and the Humber   \n",
       "\n",
       "        local_authority_type  2018_cases_male  2018_cases_female  clean_air  \\\n",
       "0             london_borough              230                533      21000   \n",
       "1             london_borough              292                481      50000   \n",
       "2       metropolitan_borough              212                315      41000   \n",
       "3          unitary_authority              156                338      33000   \n",
       "4          unitary_authority              156                211      37000   \n",
       "..                       ...              ...                ...        ...   \n",
       "147     metropolitan_borough             1103               1884      69000   \n",
       "148        unitary_authority               67                102      20000   \n",
       "149     metropolitan_borough              492               1236      18000   \n",
       "150  non_metropolitan_county             1204               2033     128000   \n",
       "151        unitary_authority              518                896       5000   \n",
       "\n",
       "     clean_environ  health_training  school_awareness  media_awareness  \\\n",
       "0            22000            18000             41000            18000   \n",
       "1            17000            23000             74000            30000   \n",
       "2            45000             5000             26000            29000   \n",
       "3            42000            19000             50000            10000   \n",
       "4            52000            17000              8000             3000   \n",
       "..             ...              ...               ...              ...   \n",
       "147          47000            30000             41000            14000   \n",
       "148          41000            13000             19000            10000   \n",
       "149          27000            23000             55000            50000   \n",
       "150         112000            57000             76000            67000   \n",
       "151          39000             8000             32000            37000   \n",
       "\n",
       "     sub_counselling  \n",
       "0              19000  \n",
       "1              26000  \n",
       "2              14000  \n",
       "3               7000  \n",
       "4              13000  \n",
       "..               ...  \n",
       "147             8000  \n",
       "148             6000  \n",
       "149            28000  \n",
       "150            30000  \n",
       "151            19000  \n",
       "\n",
       "[152 rows x 11 columns]"
      ]
     },
     "execution_count": 43,
     "metadata": {},
     "output_type": "execute_result"
    }
   ],
   "source": [
    "# Check that the Gendered Raw dataframe has the expected shape\n",
    "data_pca_unscaled"
   ]
  },
  {
   "cell_type": "markdown",
   "id": "5ed40094-9bbc-4b43-8dd8-b9382578271a",
   "metadata": {},
   "source": [
    "### 4.2. Try using the tukey_fences function to detect outliers in the unscaled data"
   ]
  },
  {
   "cell_type": "markdown",
   "id": "8efdce34-c7d2-471d-8054-5794af02f431",
   "metadata": {},
   "source": [
    "#### 4.2.1 Male counts"
   ]
  },
  {
   "cell_type": "code",
   "execution_count": 44,
   "id": "53f86635-5771-45a1-8b16-9b4f475248a8",
   "metadata": {},
   "outputs": [
    {
     "data": {
      "text/plain": [
       "(Empty DataFrame\n",
       " Columns: [local_authority_area, 2018_cases_male]\n",
       " Index: [],\n",
       " Empty DataFrame\n",
       " Columns: [local_authority_area, 2018_cases_male]\n",
       " Index: [],\n",
       "     local_authority_area  2018_cases_male\n",
       " 26              Cornwall             1187\n",
       " 32            Derbyshire             1345\n",
       " 42                 Essex             1244\n",
       " 49             Hampshire             1256\n",
       " 55         Hertfordshire             1343\n",
       " 62                  Kent             1621\n",
       " 68            Lancashire             1907\n",
       " 83               Norfolk             1093\n",
       " 89      Northamptonshire             1213\n",
       " 92       Nottinghamshire             2000\n",
       " 120        Staffordshire             1668\n",
       " 147               Wirral             1103\n",
       " 150       Worcestershire             1204,\n",
       "     local_authority_area  2018_cases_male\n",
       " 68            Lancashire             1907\n",
       " 92       Nottinghamshire             2000\n",
       " 120        Staffordshire             1668)"
      ]
     },
     "execution_count": 44,
     "metadata": {},
     "output_type": "execute_result"
    }
   ],
   "source": [
    "tukey_fences(data_pca_unscaled, \"local_authority_area\", \"2018_cases_male\")"
   ]
  },
  {
   "cell_type": "markdown",
   "id": "61b9f2d5-091c-4ac5-8c30-69e1a6e318ba",
   "metadata": {},
   "source": [
    "#### 4.2.2. Female counts"
   ]
  },
  {
   "cell_type": "code",
   "execution_count": 45,
   "id": "1b4906a2-25e4-471b-b095-b574b46f9c11",
   "metadata": {},
   "outputs": [
    {
     "data": {
      "text/plain": [
       "(Empty DataFrame\n",
       " Columns: [local_authority_area, 2018_cases_female]\n",
       " Index: [],\n",
       " Empty DataFrame\n",
       " Columns: [local_authority_area, 2018_cases_female]\n",
       " Index: [],\n",
       "     local_authority_area  2018_cases_female\n",
       " 6             Birmingham               3057\n",
       " 26              Cornwall               2370\n",
       " 32            Derbyshire               2877\n",
       " 49             Hampshire               2280\n",
       " 55         Hertfordshire               2527\n",
       " 62                  Kent               2442\n",
       " 68            Lancashire               3125\n",
       " 89      Northamptonshire               2288\n",
       " 92       Nottinghamshire               3745\n",
       " 120        Staffordshire               3094,\n",
       "     local_authority_area  2018_cases_female\n",
       " 6             Birmingham               3057\n",
       " 68            Lancashire               3125\n",
       " 92       Nottinghamshire               3745\n",
       " 120        Staffordshire               3094)"
      ]
     },
     "execution_count": 45,
     "metadata": {},
     "output_type": "execute_result"
    }
   ],
   "source": [
    "tukey_fences(data_pca_unscaled, \"local_authority_area\", \"2018_cases_female\")"
   ]
  },
  {
   "cell_type": "markdown",
   "id": "e04b6dc8-4c48-4d84-841f-b6d7fd78a63d",
   "metadata": {},
   "source": [
    "#### 4.2.3. Clean Air"
   ]
  },
  {
   "cell_type": "code",
   "execution_count": 46,
   "id": "8d6b4bd8-750c-48ac-a86d-2c30a2f19bcf",
   "metadata": {},
   "outputs": [
    {
     "data": {
      "text/plain": [
       "(Empty DataFrame\n",
       " Columns: [local_authority_area, clean_air]\n",
       " Index: [],\n",
       " Empty DataFrame\n",
       " Columns: [local_authority_area, clean_air]\n",
       " Index: [],\n",
       "     local_authority_area  clean_air\n",
       " 20        Cambridgeshire     149000\n",
       " 26              Cornwall     139000\n",
       " 32            Derbyshire     157000\n",
       " 42                 Essex     297000\n",
       " 49             Hampshire     187000\n",
       " 55         Hertfordshire     239000\n",
       " 62                  Kent     278000\n",
       " 68            Lancashire     180000\n",
       " 76            Manchester     149000\n",
       " 83               Norfolk     142000\n",
       " 89      Northamptonshire     234000\n",
       " 120        Staffordshire     158000\n",
       " 124              Suffolk     167000\n",
       " 126               Surrey     219000\n",
       " 142          West Sussex     175000,\n",
       "     local_authority_area  clean_air\n",
       " 42                 Essex     297000\n",
       " 55         Hertfordshire     239000\n",
       " 62                  Kent     278000\n",
       " 89      Northamptonshire     234000\n",
       " 126               Surrey     219000)"
      ]
     },
     "execution_count": 46,
     "metadata": {},
     "output_type": "execute_result"
    }
   ],
   "source": [
    "tukey_fences(data_pca_unscaled, \"local_authority_area\", \"clean_air\")"
   ]
  },
  {
   "cell_type": "markdown",
   "id": "23529236-f228-4c3b-ada1-ba3ea523aebd",
   "metadata": {},
   "source": [
    "#### 4.2.4.Clean Environment"
   ]
  },
  {
   "cell_type": "code",
   "execution_count": 47,
   "id": "fbb80090-57fe-4893-8c12-34c95d16ff38",
   "metadata": {},
   "outputs": [
    {
     "data": {
      "text/plain": [
       "(Empty DataFrame\n",
       " Columns: [local_authority_area, clean_environ]\n",
       " Index: [],\n",
       " Empty DataFrame\n",
       " Columns: [local_authority_area, clean_environ]\n",
       " Index: [],\n",
       "     local_authority_area  clean_environ\n",
       " 6             Birmingham         272000\n",
       " 17       Buckinghamshire         154000\n",
       " 42                 Essex         270000\n",
       " 49             Hampshire         253000\n",
       " 55         Hertfordshire         246000\n",
       " 62                  Kent         333000\n",
       " 68            Lancashire         292000\n",
       " 69                 Leeds         172000\n",
       " 94           Oxfordshire         254000\n",
       " 120        Staffordshire         173000\n",
       " 126               Surrey         254000\n",
       " 142          West Sussex         227000\n",
       " 145            Wiltshire         158000,\n",
       "     local_authority_area  clean_environ\n",
       " 6             Birmingham         272000\n",
       " 42                 Essex         270000\n",
       " 49             Hampshire         253000\n",
       " 55         Hertfordshire         246000\n",
       " 62                  Kent         333000\n",
       " 68            Lancashire         292000\n",
       " 94           Oxfordshire         254000\n",
       " 126               Surrey         254000\n",
       " 142          West Sussex         227000)"
      ]
     },
     "execution_count": 47,
     "metadata": {},
     "output_type": "execute_result"
    }
   ],
   "source": [
    "tukey_fences(data_pca_unscaled, \"local_authority_area\", \"clean_environ\")"
   ]
  },
  {
   "cell_type": "markdown",
   "id": "6c20c7ea-99f6-478f-a4e5-65f6f3fd87eb",
   "metadata": {},
   "source": [
    "#### 4.2.5. Health Training"
   ]
  },
  {
   "cell_type": "code",
   "execution_count": 48,
   "id": "ff69a416-8bc8-47cc-b54e-b5b6a06552dc",
   "metadata": {},
   "outputs": [
    {
     "data": {
      "text/plain": [
       "(Empty DataFrame\n",
       " Columns: [local_authority_area, health_training]\n",
       " Index: [],\n",
       " Empty DataFrame\n",
       " Columns: [local_authority_area, health_training]\n",
       " Index: [],\n",
       "     local_authority_area  health_training\n",
       " 6             Birmingham           130000\n",
       " 17       Buckinghamshire            61000\n",
       " 20        Cambridgeshire            84000\n",
       " 29               Cumbria            54000\n",
       " 33                 Devon            88000\n",
       " 40           East Sussex            54000\n",
       " 49             Hampshire           122000\n",
       " 55         Hertfordshire           102000\n",
       " 62                  Kent            84000\n",
       " 65              Kirklees            51000\n",
       " 71        Leicestershire            67000\n",
       " 76            Manchester            55000\n",
       " 83               Norfolk            98000\n",
       " 89      Northamptonshire            87000\n",
       " 92       Nottinghamshire            70000\n",
       " 94           Oxfordshire            61000\n",
       " 126               Surrey            49000\n",
       " 140         Warwickshire            53000\n",
       " 142          West Sussex            63000\n",
       " 150       Worcestershire            57000,\n",
       "    local_authority_area  health_training\n",
       " 6            Birmingham           130000\n",
       " 20       Cambridgeshire            84000\n",
       " 33                Devon            88000\n",
       " 49            Hampshire           122000\n",
       " 55        Hertfordshire           102000\n",
       " 62                 Kent            84000\n",
       " 83              Norfolk            98000\n",
       " 89     Northamptonshire            87000)"
      ]
     },
     "execution_count": 48,
     "metadata": {},
     "output_type": "execute_result"
    }
   ],
   "source": [
    "tukey_fences(data_pca_unscaled, \"local_authority_area\", \"health_training\")"
   ]
  },
  {
   "cell_type": "markdown",
   "id": "fcd79d95-9525-452d-83dc-93b85ac051a9",
   "metadata": {},
   "source": [
    "#### 4.2.6. School Awareness"
   ]
  },
  {
   "cell_type": "code",
   "execution_count": 49,
   "id": "0c2ce27d-9e6e-458e-9aeb-8f9cd998331f",
   "metadata": {},
   "outputs": [
    {
     "data": {
      "text/plain": [
       "(Empty DataFrame\n",
       " Columns: [local_authority_area, school_awareness]\n",
       " Index: [],\n",
       " Empty DataFrame\n",
       " Columns: [local_authority_area, school_awareness]\n",
       " Index: [],\n",
       "     local_authority_area  school_awareness\n",
       " 20        Cambridgeshire            214000\n",
       " 32            Derbyshire            134000\n",
       " 33                 Devon            178000\n",
       " 37                Durham            130000\n",
       " 42                 Essex            284000\n",
       " 44       Gloucestershire            139000\n",
       " 49             Hampshire            266000\n",
       " 55         Hertfordshire            180000\n",
       " 62                  Kent            291000\n",
       " 68            Lancashire            163000\n",
       " 69                 Leeds            163000\n",
       " 71        Leicestershire            139000\n",
       " 73          Lincolnshire            151000\n",
       " 92       Nottinghamshire            166000\n",
       " 124              Suffolk            142000\n",
       " 126               Surrey            340000,\n",
       "     local_authority_area  school_awareness\n",
       " 20        Cambridgeshire            214000\n",
       " 42                 Essex            284000\n",
       " 49             Hampshire            266000\n",
       " 62                  Kent            291000\n",
       " 126               Surrey            340000)"
      ]
     },
     "execution_count": 49,
     "metadata": {},
     "output_type": "execute_result"
    }
   ],
   "source": [
    "tukey_fences(data_pca_unscaled, \"local_authority_area\", \"school_awareness\")"
   ]
  },
  {
   "cell_type": "markdown",
   "id": "6c7fa6ba-28ed-4cd1-889b-547b8c00fbcd",
   "metadata": {},
   "source": [
    "#### 4.2.7. Media Awareness"
   ]
  },
  {
   "cell_type": "code",
   "execution_count": 50,
   "id": "961fd349-a0bc-4279-b9c5-a813b3e7e998",
   "metadata": {},
   "outputs": [
    {
     "data": {
      "text/plain": [
       "(Empty DataFrame\n",
       " Columns: [local_authority_area, media_awareness]\n",
       " Index: [],\n",
       " Empty DataFrame\n",
       " Columns: [local_authority_area, media_awareness]\n",
       " Index: [],\n",
       "     local_authority_area  media_awareness\n",
       " 6             Birmingham           140000\n",
       " 33                 Devon           102000\n",
       " 40           East Sussex            84000\n",
       " 44       Gloucestershire           115000\n",
       " 49             Hampshire           203000\n",
       " 62                  Kent           121000\n",
       " 83               Norfolk            87000\n",
       " 88       North Yorkshire           108000\n",
       " 94           Oxfordshire           107000\n",
       " 126               Surrey           103000\n",
       " 142          West Sussex            95000,\n",
       "    local_authority_area  media_awareness\n",
       " 6            Birmingham           140000\n",
       " 49            Hampshire           203000\n",
       " 62                 Kent           121000)"
      ]
     },
     "execution_count": 50,
     "metadata": {},
     "output_type": "execute_result"
    }
   ],
   "source": [
    "tukey_fences(data_pca_unscaled, \"local_authority_area\", \"media_awareness\")"
   ]
  },
  {
   "cell_type": "markdown",
   "id": "14b85260-fab1-4e5a-95f2-01a17d4a65b7",
   "metadata": {},
   "source": [
    "#### 4.2.8. Subsidised Counselling"
   ]
  },
  {
   "cell_type": "code",
   "execution_count": 51,
   "id": "3e039777-0395-4cc4-8b05-6f24ef30d6ba",
   "metadata": {},
   "outputs": [
    {
     "data": {
      "text/plain": [
       "(Empty DataFrame\n",
       " Columns: [local_authority_area, sub_counselling]\n",
       " Index: [],\n",
       " Empty DataFrame\n",
       " Columns: [local_authority_area, sub_counselling]\n",
       " Index: [],\n",
       "     local_authority_area  sub_counselling\n",
       " 6             Birmingham            99000\n",
       " 32            Derbyshire            61000\n",
       " 42                 Essex            97000\n",
       " 49             Hampshire            89000\n",
       " 55         Hertfordshire            80000\n",
       " 62                  Kent            63000\n",
       " 68            Lancashire            91000\n",
       " 71        Leicestershire            77000\n",
       " 88       North Yorkshire            63000\n",
       " 89      Northamptonshire            85000\n",
       " 142          West Sussex            71000,\n",
       "    local_authority_area  sub_counselling\n",
       " 6            Birmingham            99000\n",
       " 42                Essex            97000\n",
       " 49            Hampshire            89000\n",
       " 68           Lancashire            91000\n",
       " 89     Northamptonshire            85000)"
      ]
     },
     "execution_count": 51,
     "metadata": {},
     "output_type": "execute_result"
    }
   ],
   "source": [
    "tukey_fences(data_pca_unscaled, \"local_authority_area\", \"sub_counselling\")"
   ]
  },
  {
   "cell_type": "code",
   "execution_count": 52,
   "id": "ac27a387-1009-4022-9729-2ce181521717",
   "metadata": {},
   "outputs": [],
   "source": [
    "# Conclusion from trying to use Tukey Fences on unstandardised data:\n",
    "# It is clear that the spread of the unstandardised data is such that\n",
    "# attempting to use Tukey Fences does not yield results that can be relied upon\n",
    "# to be identifying actual outliers "
   ]
  },
  {
   "cell_type": "markdown",
   "id": "fdc54927-436d-491f-8244-fb91e2ab7dc4",
   "metadata": {},
   "source": [
    "### 4.3 Test suitability of Gendered Raw for PCA"
   ]
  },
  {
   "cell_type": "markdown",
   "id": "49003dee-838f-4e49-b4a4-77f6ba8f1b61",
   "metadata": {},
   "source": [
    "### 4.3.1. Produce the correlation matrix and heatmap for Gendered Raw"
   ]
  },
  {
   "cell_type": "code",
   "execution_count": 53,
   "id": "2884beb7-2a3a-40d5-85fc-7ed4991e2655",
   "metadata": {},
   "outputs": [],
   "source": [
    "data_pca_unscaled_numeric = data_pca_unscaled.loc[:, \"2018_cases_male\" : \"sub_counselling\"]"
   ]
  },
  {
   "cell_type": "code",
   "execution_count": 54,
   "id": "624a14f3-a32e-4496-906d-fb4457e9f751",
   "metadata": {},
   "outputs": [],
   "source": [
    "corr_matrix_unscaled = data_pca_unscaled_numeric.corr()"
   ]
  },
  {
   "cell_type": "code",
   "execution_count": 55,
   "id": "7ef3f911-12b3-4496-a5ff-88a6dab1636f",
   "metadata": {},
   "outputs": [
    {
     "data": {
      "text/html": [
       "<div>\n",
       "<style scoped>\n",
       "    .dataframe tbody tr th:only-of-type {\n",
       "        vertical-align: middle;\n",
       "    }\n",
       "\n",
       "    .dataframe tbody tr th {\n",
       "        vertical-align: top;\n",
       "    }\n",
       "\n",
       "    .dataframe thead th {\n",
       "        text-align: right;\n",
       "    }\n",
       "</style>\n",
       "<table border=\"1\" class=\"dataframe\">\n",
       "  <thead>\n",
       "    <tr style=\"text-align: right;\">\n",
       "      <th></th>\n",
       "      <th>2018_cases_male</th>\n",
       "      <th>2018_cases_female</th>\n",
       "      <th>clean_air</th>\n",
       "      <th>clean_environ</th>\n",
       "      <th>health_training</th>\n",
       "      <th>school_awareness</th>\n",
       "      <th>media_awareness</th>\n",
       "      <th>sub_counselling</th>\n",
       "    </tr>\n",
       "  </thead>\n",
       "  <tbody>\n",
       "    <tr>\n",
       "      <th>2018_cases_male</th>\n",
       "      <td>1.00</td>\n",
       "      <td>0.96</td>\n",
       "      <td>0.78</td>\n",
       "      <td>0.71</td>\n",
       "      <td>0.64</td>\n",
       "      <td>0.66</td>\n",
       "      <td>0.60</td>\n",
       "      <td>0.72</td>\n",
       "    </tr>\n",
       "    <tr>\n",
       "      <th>2018_cases_female</th>\n",
       "      <td>0.96</td>\n",
       "      <td>1.00</td>\n",
       "      <td>0.73</td>\n",
       "      <td>0.72</td>\n",
       "      <td>0.68</td>\n",
       "      <td>0.62</td>\n",
       "      <td>0.60</td>\n",
       "      <td>0.73</td>\n",
       "    </tr>\n",
       "    <tr>\n",
       "      <th>clean_air</th>\n",
       "      <td>0.78</td>\n",
       "      <td>0.73</td>\n",
       "      <td>1.00</td>\n",
       "      <td>0.72</td>\n",
       "      <td>0.66</td>\n",
       "      <td>0.74</td>\n",
       "      <td>0.60</td>\n",
       "      <td>0.75</td>\n",
       "    </tr>\n",
       "    <tr>\n",
       "      <th>clean_environ</th>\n",
       "      <td>0.71</td>\n",
       "      <td>0.72</td>\n",
       "      <td>0.72</td>\n",
       "      <td>1.00</td>\n",
       "      <td>0.64</td>\n",
       "      <td>0.66</td>\n",
       "      <td>0.68</td>\n",
       "      <td>0.74</td>\n",
       "    </tr>\n",
       "    <tr>\n",
       "      <th>health_training</th>\n",
       "      <td>0.64</td>\n",
       "      <td>0.68</td>\n",
       "      <td>0.66</td>\n",
       "      <td>0.64</td>\n",
       "      <td>1.00</td>\n",
       "      <td>0.62</td>\n",
       "      <td>0.69</td>\n",
       "      <td>0.72</td>\n",
       "    </tr>\n",
       "    <tr>\n",
       "      <th>school_awareness</th>\n",
       "      <td>0.66</td>\n",
       "      <td>0.62</td>\n",
       "      <td>0.74</td>\n",
       "      <td>0.66</td>\n",
       "      <td>0.62</td>\n",
       "      <td>1.00</td>\n",
       "      <td>0.66</td>\n",
       "      <td>0.69</td>\n",
       "    </tr>\n",
       "    <tr>\n",
       "      <th>media_awareness</th>\n",
       "      <td>0.60</td>\n",
       "      <td>0.60</td>\n",
       "      <td>0.60</td>\n",
       "      <td>0.68</td>\n",
       "      <td>0.69</td>\n",
       "      <td>0.66</td>\n",
       "      <td>1.00</td>\n",
       "      <td>0.70</td>\n",
       "    </tr>\n",
       "    <tr>\n",
       "      <th>sub_counselling</th>\n",
       "      <td>0.72</td>\n",
       "      <td>0.73</td>\n",
       "      <td>0.75</td>\n",
       "      <td>0.74</td>\n",
       "      <td>0.72</td>\n",
       "      <td>0.69</td>\n",
       "      <td>0.70</td>\n",
       "      <td>1.00</td>\n",
       "    </tr>\n",
       "  </tbody>\n",
       "</table>\n",
       "</div>"
      ],
      "text/plain": [
       "                   2018_cases_male  2018_cases_female  clean_air  \\\n",
       "2018_cases_male               1.00               0.96       0.78   \n",
       "2018_cases_female             0.96               1.00       0.73   \n",
       "clean_air                     0.78               0.73       1.00   \n",
       "clean_environ                 0.71               0.72       0.72   \n",
       "health_training               0.64               0.68       0.66   \n",
       "school_awareness              0.66               0.62       0.74   \n",
       "media_awareness               0.60               0.60       0.60   \n",
       "sub_counselling               0.72               0.73       0.75   \n",
       "\n",
       "                   clean_environ  health_training  school_awareness  \\\n",
       "2018_cases_male             0.71             0.64              0.66   \n",
       "2018_cases_female           0.72             0.68              0.62   \n",
       "clean_air                   0.72             0.66              0.74   \n",
       "clean_environ               1.00             0.64              0.66   \n",
       "health_training             0.64             1.00              0.62   \n",
       "school_awareness            0.66             0.62              1.00   \n",
       "media_awareness             0.68             0.69              0.66   \n",
       "sub_counselling             0.74             0.72              0.69   \n",
       "\n",
       "                   media_awareness  sub_counselling  \n",
       "2018_cases_male               0.60             0.72  \n",
       "2018_cases_female             0.60             0.73  \n",
       "clean_air                     0.60             0.75  \n",
       "clean_environ                 0.68             0.74  \n",
       "health_training               0.69             0.72  \n",
       "school_awareness              0.66             0.69  \n",
       "media_awareness               1.00             0.70  \n",
       "sub_counselling               0.70             1.00  "
      ]
     },
     "execution_count": 55,
     "metadata": {},
     "output_type": "execute_result"
    }
   ],
   "source": [
    "corr_matrix_unscaled"
   ]
  },
  {
   "cell_type": "code",
   "execution_count": 56,
   "id": "0f963948-f694-4e1d-b992-f0878f79327c",
   "metadata": {},
   "outputs": [
    {
     "data": {
      "text/plain": [
       "Text(0.5, 1.0, 'Gendered Raw: Triangle Correlation Heatmap')"
      ]
     },
     "execution_count": 56,
     "metadata": {},
     "output_type": "execute_result"
    },
    {
     "data": {
      "image/png": "[encoded data removed]",
      "text/plain": [
       "<Figure size 576x432 with 2 Axes>"
      ]
     },
     "metadata": {},
     "output_type": "display_data"
    }
   ],
   "source": [
    "# plot correlation heatmap\n",
    "\n",
    "plot.figure(figsize = (8, 6))\n",
    "\n",
    "mask = np.triu(np.ones_like(corr_matrix_unscaled, dtype = bool))\n",
    "\n",
    "custom_palette = sns.diverging_palette(220, 20, as_cmap=True)\n",
    "\n",
    "corr_heatmap_unscaled = sns.heatmap(corr_matrix_unscaled, \n",
    "                           mask = mask, \n",
    "                           vmin = 0, \n",
    "                           vmax = 1,\n",
    "                           annot = True,\n",
    "                           fmt = \".2f\",\n",
    "                           cmap = \"rocket\",\n",
    "                           xticklabels = values,\n",
    "                           yticklabels = values,\n",
    "                           )\n",
    "\n",
    "corr_heatmap_unscaled.set_title(\"Gendered Raw: Triangle Correlation Heatmap\",\n",
    "                                 fontdict = {\"fontsize\" : 18},\n",
    "                                 pad = 16)"
   ]
  },
  {
   "cell_type": "markdown",
   "id": "919564f7-c3fb-4ff6-a8db-7f95bbff54e8",
   "metadata": {},
   "source": [
    "### 4.3.2. Test for positivity of the correlation matrix"
   ]
  },
  {
   "cell_type": "code",
   "execution_count": 57,
   "id": "c857be2c-4cc6-4f7d-b27f-2710f8b297be",
   "metadata": {},
   "outputs": [
    {
     "name": "stdout",
     "output_type": "stream",
     "text": [
      "The determinant of the correlation matrix to 2dp is: 0.00\n"
     ]
    }
   ],
   "source": [
    "det_corr_matrix_unscaled = np.linalg.det(corr_matrix_unscaled)\n",
    "print(f\"The determinant of the correlation matrix to 2dp is: {det_corr_matrix_unscaled:.2f}\")"
   ]
  },
  {
   "cell_type": "code",
   "execution_count": 58,
   "id": "cad1b55c-7ede-416b-b6b9-335b170866f3",
   "metadata": {},
   "outputs": [
    {
     "name": "stdout",
     "output_type": "stream",
     "text": [
      "The determinant of the correlation matrix to 9dp is: 0.000258096\n"
     ]
    }
   ],
   "source": [
    "# Increase number of decimal places printed as further check on size of determinant\n",
    "print(f\"The determinant of the correlation matrix to 9dp is: {det_corr_matrix_unscaled:.9f}\")"
   ]
  },
  {
   "cell_type": "markdown",
   "id": "bcb592a7-67e6-4ca5-ada7-e61786fd05a6",
   "metadata": {},
   "source": [
    "### 4.3.3. Calculate variance inflation factors for Gendered Raw"
   ]
  },
  {
   "cell_type": "code",
   "execution_count": 59,
   "id": "6ae8e46f-eeb7-4e71-b900-f83ef75487ae",
   "metadata": {
    "tags": []
   },
   "outputs": [],
   "source": [
    "# Very small det indicative of multicollinareity\n",
    "# calculate variance inflation factors to investigate\n",
    "inv_corr_matrix_unscaled = np.linalg.inv(corr_matrix_unscaled)"
   ]
  },
  {
   "cell_type": "code",
   "execution_count": 60,
   "id": "dbd0108a-05ad-419c-ac69-dcf8368dd0a5",
   "metadata": {},
   "outputs": [
    {
     "data": {
      "text/plain": [
       "array([[ 14.83, -12.94,  -2.57,   0.58,   1.15,  -0.91,  -0.24,   0.2 ],\n",
       "       [-12.94,  14.27,   1.4 ,  -1.29,  -1.61,   0.86,   0.26,  -0.77],\n",
       "       [ -2.57,   1.4 ,   3.96,  -0.67,  -0.47,  -1.05,   0.38,  -0.86],\n",
       "       [  0.58,  -1.29,  -0.67,   3.02,   0.06,  -0.25,  -0.68,  -0.59],\n",
       "       [  1.15,  -1.61,  -0.47,   0.06,   2.73,  -0.21,  -0.8 ,  -0.59],\n",
       "       [ -0.91,   0.86,  -1.05,  -0.25,  -0.21,   2.77,  -0.64,  -0.29],\n",
       "       [ -0.24,   0.26,   0.38,  -0.68,  -0.8 ,  -0.64,   2.66,  -0.66],\n",
       "       [  0.2 ,  -0.77,  -0.86,  -0.59,  -0.59,  -0.29,  -0.66,   3.58]])"
      ]
     },
     "execution_count": 60,
     "metadata": {},
     "output_type": "execute_result"
    }
   ],
   "source": [
    "np.set_printoptions(precision = 2)\n",
    "inv_corr_matrix_unscaled"
   ]
  },
  {
   "cell_type": "code",
   "execution_count": 61,
   "id": "84bc9bf1-ca3b-4120-a26e-42761b2f07d0",
   "metadata": {},
   "outputs": [],
   "source": [
    "# Conclusion after inspecting VIF:\n",
    "# Consider creating another datatset with M and F replaced by total cases as M and F highly collinear"
   ]
  },
  {
   "cell_type": "markdown",
   "id": "27cc6170-a7e9-40c6-8501-8ed6d7df0ed2",
   "metadata": {},
   "source": [
    "### 4.3.4. Perform Bartlett's Test of Sphericity"
   ]
  },
  {
   "cell_type": "code",
   "execution_count": 62,
   "id": "292ec847-47f8-4f47-83df-39d0389bc118",
   "metadata": {},
   "outputs": [
    {
     "name": "stdout",
     "output_type": "stream",
     "text": [
      "The Chi-Square statistic to 2dp is: 1226.46\n",
      "The p-value to 2dp is: 0.00\n"
     ]
    }
   ],
   "source": [
    "chi_square_value_unscaled,p_value_unscaled = calculate_bartlett_sphericity(data_pca_unscaled_numeric)\n",
    "\n",
    "print(f\"The Chi-Square statistic to 2dp is: {chi_square_value_unscaled:.2f}\")\n",
    "print(f\"The p-value to 2dp is: {p_value_unscaled:.2f}\")\n"
   ]
  },
  {
   "cell_type": "markdown",
   "id": "07a9fe9b-03cb-4b91-85fd-f73c85a2eb64",
   "metadata": {},
   "source": [
    "### 4.3.5. Calculate Kaiser-Meyer-Olkin (KMO) value"
   ]
  },
  {
   "cell_type": "code",
   "execution_count": 63,
   "id": "f61de7da-b460-48dd-abe5-10c5c9f4f8e0",
   "metadata": {},
   "outputs": [
    {
     "name": "stdout",
     "output_type": "stream",
     "text": [
      "The KMO value to 2dp is: 0.89\n"
     ]
    }
   ],
   "source": [
    "kmo_unscaled,kmo_model_unscaled = calculate_kmo(data_pca_unscaled_numeric)\n",
    "\n",
    "print(f\"The KMO value to 2dp is: {kmo_model_unscaled:.2f}\")\n"
   ]
  },
  {
   "cell_type": "markdown",
   "id": "e2788ae7-d5a6-4562-b302-e5a5e0422874",
   "metadata": {},
   "source": [
    "### 4.3.6. Conclusion from testing"
   ]
  },
  {
   "cell_type": "code",
   "execution_count": 64,
   "id": "e36a4fed-c231-4b4b-a5c8-59b9744772c1",
   "metadata": {},
   "outputs": [],
   "source": [
    "# Gendered Raw looks to be highly suitable for PCA but could possibky be improved\n",
    "# Test of VIFs shows that M and F are essentially repeating the same info\n",
    "# Try replacing these variables with just a total count in next iteration of dataset"
   ]
  },
  {
   "cell_type": "markdown",
   "id": "171e7fb5-ac6f-49e1-abcf-e8bcb29f75e8",
   "metadata": {},
   "source": [
    "## 5. The \"Total Raw\" dataset for the period of interest (2018)<a class=\"anchor\" id=\"section5\"></a>"
   ]
  },
  {
   "cell_type": "markdown",
   "id": "fcc8e410-6695-43f0-88cb-8a2028fe0e20",
   "metadata": {},
   "source": [
    "### 5.1 Create the \"Total Raw\" subset of the data"
   ]
  },
  {
   "cell_type": "code",
   "execution_count": 65,
   "id": "4e060d5b-4a79-41db-a59b-57e4fe2e9116",
   "metadata": {},
   "outputs": [],
   "source": [
    "# Replace the M and F counts with total counts\n",
    "total_col_2018 = data[\"2018_cases_total\"]\n",
    "data_pca_unscaled_totalcount = data_pca_unscaled.copy(deep = True)\n",
    "data_pca_unscaled_totalcount.insert(3, \"2018_cases_total\", total_col_2018)\n",
    "data_pca_unscaled_totalcount = data_pca_unscaled_totalcount.drop(\n",
    "                                    data_pca_unscaled.loc[:, \"2018_cases_male\":\"2018_cases_female\"].\n",
    "                                    columns, axis = 1\n",
    "                                    )"
   ]
  },
  {
   "cell_type": "code",
   "execution_count": 66,
   "id": "86213fec-9e1e-4b1b-b37a-9d1730cca700",
   "metadata": {},
   "outputs": [],
   "source": [
    "data_pca_unscaled_totalcount_numeric = data_pca_unscaled_totalcount.loc[:, \"2018_cases_total\" : \"sub_counselling\"]"
   ]
  },
  {
   "cell_type": "code",
   "execution_count": 67,
   "id": "7284b9b4-e3a7-418f-b508-56af20835278",
   "metadata": {},
   "outputs": [
    {
     "data": {
      "text/html": [
       "<div>\n",
       "<style scoped>\n",
       "    .dataframe tbody tr th:only-of-type {\n",
       "        vertical-align: middle;\n",
       "    }\n",
       "\n",
       "    .dataframe tbody tr th {\n",
       "        vertical-align: top;\n",
       "    }\n",
       "\n",
       "    .dataframe thead th {\n",
       "        text-align: right;\n",
       "    }\n",
       "</style>\n",
       "<table border=\"1\" class=\"dataframe\">\n",
       "  <thead>\n",
       "    <tr style=\"text-align: right;\">\n",
       "      <th></th>\n",
       "      <th>2018_cases_total</th>\n",
       "      <th>clean_air</th>\n",
       "      <th>clean_environ</th>\n",
       "      <th>health_training</th>\n",
       "      <th>school_awareness</th>\n",
       "      <th>media_awareness</th>\n",
       "      <th>sub_counselling</th>\n",
       "    </tr>\n",
       "  </thead>\n",
       "  <tbody>\n",
       "    <tr>\n",
       "      <th>0</th>\n",
       "      <td>763</td>\n",
       "      <td>21000</td>\n",
       "      <td>22000</td>\n",
       "      <td>18000</td>\n",
       "      <td>41000</td>\n",
       "      <td>18000</td>\n",
       "      <td>19000</td>\n",
       "    </tr>\n",
       "    <tr>\n",
       "      <th>1</th>\n",
       "      <td>773</td>\n",
       "      <td>50000</td>\n",
       "      <td>17000</td>\n",
       "      <td>23000</td>\n",
       "      <td>74000</td>\n",
       "      <td>30000</td>\n",
       "      <td>26000</td>\n",
       "    </tr>\n",
       "    <tr>\n",
       "      <th>2</th>\n",
       "      <td>527</td>\n",
       "      <td>41000</td>\n",
       "      <td>45000</td>\n",
       "      <td>5000</td>\n",
       "      <td>26000</td>\n",
       "      <td>29000</td>\n",
       "      <td>14000</td>\n",
       "    </tr>\n",
       "    <tr>\n",
       "      <th>3</th>\n",
       "      <td>494</td>\n",
       "      <td>33000</td>\n",
       "      <td>42000</td>\n",
       "      <td>19000</td>\n",
       "      <td>50000</td>\n",
       "      <td>10000</td>\n",
       "      <td>7000</td>\n",
       "    </tr>\n",
       "    <tr>\n",
       "      <th>4</th>\n",
       "      <td>367</td>\n",
       "      <td>37000</td>\n",
       "      <td>52000</td>\n",
       "      <td>17000</td>\n",
       "      <td>8000</td>\n",
       "      <td>3000</td>\n",
       "      <td>13000</td>\n",
       "    </tr>\n",
       "    <tr>\n",
       "      <th>...</th>\n",
       "      <td>...</td>\n",
       "      <td>...</td>\n",
       "      <td>...</td>\n",
       "      <td>...</td>\n",
       "      <td>...</td>\n",
       "      <td>...</td>\n",
       "      <td>...</td>\n",
       "    </tr>\n",
       "    <tr>\n",
       "      <th>147</th>\n",
       "      <td>2987</td>\n",
       "      <td>69000</td>\n",
       "      <td>47000</td>\n",
       "      <td>30000</td>\n",
       "      <td>41000</td>\n",
       "      <td>14000</td>\n",
       "      <td>8000</td>\n",
       "    </tr>\n",
       "    <tr>\n",
       "      <th>148</th>\n",
       "      <td>169</td>\n",
       "      <td>20000</td>\n",
       "      <td>41000</td>\n",
       "      <td>13000</td>\n",
       "      <td>19000</td>\n",
       "      <td>10000</td>\n",
       "      <td>6000</td>\n",
       "    </tr>\n",
       "    <tr>\n",
       "      <th>149</th>\n",
       "      <td>1728</td>\n",
       "      <td>18000</td>\n",
       "      <td>27000</td>\n",
       "      <td>23000</td>\n",
       "      <td>55000</td>\n",
       "      <td>50000</td>\n",
       "      <td>28000</td>\n",
       "    </tr>\n",
       "    <tr>\n",
       "      <th>150</th>\n",
       "      <td>3237</td>\n",
       "      <td>128000</td>\n",
       "      <td>112000</td>\n",
       "      <td>57000</td>\n",
       "      <td>76000</td>\n",
       "      <td>67000</td>\n",
       "      <td>30000</td>\n",
       "    </tr>\n",
       "    <tr>\n",
       "      <th>151</th>\n",
       "      <td>1414</td>\n",
       "      <td>5000</td>\n",
       "      <td>39000</td>\n",
       "      <td>8000</td>\n",
       "      <td>32000</td>\n",
       "      <td>37000</td>\n",
       "      <td>19000</td>\n",
       "    </tr>\n",
       "  </tbody>\n",
       "</table>\n",
       "<p>152 rows × 7 columns</p>\n",
       "</div>"
      ],
      "text/plain": [
       "     2018_cases_total  clean_air  clean_environ  health_training  \\\n",
       "0                 763      21000          22000            18000   \n",
       "1                 773      50000          17000            23000   \n",
       "2                 527      41000          45000             5000   \n",
       "3                 494      33000          42000            19000   \n",
       "4                 367      37000          52000            17000   \n",
       "..                ...        ...            ...              ...   \n",
       "147              2987      69000          47000            30000   \n",
       "148               169      20000          41000            13000   \n",
       "149              1728      18000          27000            23000   \n",
       "150              3237     128000         112000            57000   \n",
       "151              1414       5000          39000             8000   \n",
       "\n",
       "     school_awareness  media_awareness  sub_counselling  \n",
       "0               41000            18000            19000  \n",
       "1               74000            30000            26000  \n",
       "2               26000            29000            14000  \n",
       "3               50000            10000             7000  \n",
       "4                8000             3000            13000  \n",
       "..                ...              ...              ...  \n",
       "147             41000            14000             8000  \n",
       "148             19000            10000             6000  \n",
       "149             55000            50000            28000  \n",
       "150             76000            67000            30000  \n",
       "151             32000            37000            19000  \n",
       "\n",
       "[152 rows x 7 columns]"
      ]
     },
     "execution_count": 67,
     "metadata": {},
     "output_type": "execute_result"
    }
   ],
   "source": [
    "data_pca_unscaled_totalcount_numeric"
   ]
  },
  {
   "cell_type": "markdown",
   "id": "80d9d560-f50c-4861-91df-1c1c0c207e0c",
   "metadata": {},
   "source": [
    "### 5.2. Test the suitability of Total Raw for PCA"
   ]
  },
  {
   "cell_type": "markdown",
   "id": "86eba910-dc2d-4098-83b8-c1cc34595119",
   "metadata": {},
   "source": [
    "### 5.2.1. Produce the correlation matrix and heatmap for Total Raw"
   ]
  },
  {
   "cell_type": "code",
   "execution_count": 68,
   "id": "5ffcfc13-f818-4b4d-a83c-fa2d8ae65c19",
   "metadata": {},
   "outputs": [],
   "source": [
    "corr_matrix_unscaled_totalcount = data_pca_unscaled_totalcount_numeric.corr()"
   ]
  },
  {
   "cell_type": "code",
   "execution_count": 69,
   "id": "06ccdce1-ea2b-4efd-8577-d025554f66a0",
   "metadata": {},
   "outputs": [
    {
     "data": {
      "text/html": [
       "<div>\n",
       "<style scoped>\n",
       "    .dataframe tbody tr th:only-of-type {\n",
       "        vertical-align: middle;\n",
       "    }\n",
       "\n",
       "    .dataframe tbody tr th {\n",
       "        vertical-align: top;\n",
       "    }\n",
       "\n",
       "    .dataframe thead th {\n",
       "        text-align: right;\n",
       "    }\n",
       "</style>\n",
       "<table border=\"1\" class=\"dataframe\">\n",
       "  <thead>\n",
       "    <tr style=\"text-align: right;\">\n",
       "      <th></th>\n",
       "      <th>2018_cases_total</th>\n",
       "      <th>clean_air</th>\n",
       "      <th>clean_environ</th>\n",
       "      <th>health_training</th>\n",
       "      <th>school_awareness</th>\n",
       "      <th>media_awareness</th>\n",
       "      <th>sub_counselling</th>\n",
       "    </tr>\n",
       "  </thead>\n",
       "  <tbody>\n",
       "    <tr>\n",
       "      <th>2018_cases_total</th>\n",
       "      <td>1.00</td>\n",
       "      <td>0.76</td>\n",
       "      <td>0.72</td>\n",
       "      <td>0.67</td>\n",
       "      <td>0.64</td>\n",
       "      <td>0.61</td>\n",
       "      <td>0.74</td>\n",
       "    </tr>\n",
       "    <tr>\n",
       "      <th>clean_air</th>\n",
       "      <td>0.76</td>\n",
       "      <td>1.00</td>\n",
       "      <td>0.72</td>\n",
       "      <td>0.66</td>\n",
       "      <td>0.74</td>\n",
       "      <td>0.60</td>\n",
       "      <td>0.75</td>\n",
       "    </tr>\n",
       "    <tr>\n",
       "      <th>clean_environ</th>\n",
       "      <td>0.72</td>\n",
       "      <td>0.72</td>\n",
       "      <td>1.00</td>\n",
       "      <td>0.64</td>\n",
       "      <td>0.66</td>\n",
       "      <td>0.68</td>\n",
       "      <td>0.74</td>\n",
       "    </tr>\n",
       "    <tr>\n",
       "      <th>health_training</th>\n",
       "      <td>0.67</td>\n",
       "      <td>0.66</td>\n",
       "      <td>0.64</td>\n",
       "      <td>1.00</td>\n",
       "      <td>0.62</td>\n",
       "      <td>0.69</td>\n",
       "      <td>0.72</td>\n",
       "    </tr>\n",
       "    <tr>\n",
       "      <th>school_awareness</th>\n",
       "      <td>0.64</td>\n",
       "      <td>0.74</td>\n",
       "      <td>0.66</td>\n",
       "      <td>0.62</td>\n",
       "      <td>1.00</td>\n",
       "      <td>0.66</td>\n",
       "      <td>0.69</td>\n",
       "    </tr>\n",
       "    <tr>\n",
       "      <th>media_awareness</th>\n",
       "      <td>0.61</td>\n",
       "      <td>0.60</td>\n",
       "      <td>0.68</td>\n",
       "      <td>0.69</td>\n",
       "      <td>0.66</td>\n",
       "      <td>1.00</td>\n",
       "      <td>0.70</td>\n",
       "    </tr>\n",
       "    <tr>\n",
       "      <th>sub_counselling</th>\n",
       "      <td>0.74</td>\n",
       "      <td>0.75</td>\n",
       "      <td>0.74</td>\n",
       "      <td>0.72</td>\n",
       "      <td>0.69</td>\n",
       "      <td>0.70</td>\n",
       "      <td>1.00</td>\n",
       "    </tr>\n",
       "  </tbody>\n",
       "</table>\n",
       "</div>"
      ],
      "text/plain": [
       "                  2018_cases_total  clean_air  clean_environ  health_training  \\\n",
       "2018_cases_total              1.00       0.76           0.72             0.67   \n",
       "clean_air                     0.76       1.00           0.72             0.66   \n",
       "clean_environ                 0.72       0.72           1.00             0.64   \n",
       "health_training               0.67       0.66           0.64             1.00   \n",
       "school_awareness              0.64       0.74           0.66             0.62   \n",
       "media_awareness               0.61       0.60           0.68             0.69   \n",
       "sub_counselling               0.74       0.75           0.74             0.72   \n",
       "\n",
       "                  school_awareness  media_awareness  sub_counselling  \n",
       "2018_cases_total              0.64             0.61             0.74  \n",
       "clean_air                     0.74             0.60             0.75  \n",
       "clean_environ                 0.66             0.68             0.74  \n",
       "health_training               0.62             0.69             0.72  \n",
       "school_awareness              1.00             0.66             0.69  \n",
       "media_awareness               0.66             1.00             0.70  \n",
       "sub_counselling               0.69             0.70             1.00  "
      ]
     },
     "execution_count": 69,
     "metadata": {},
     "output_type": "execute_result"
    }
   ],
   "source": [
    "# correlation matrix of unscaled data using total counts of obsesity instead of divided by gender\n",
    "pd.set_option(\"display.float_format\", \"{:,.2f}\".format)\n",
    "corr_matrix_unscaled_totalcount"
   ]
  },
  {
   "cell_type": "code",
   "execution_count": 70,
   "id": "d6fe6e36-2bb4-42e9-a707-904e4fe6b593",
   "metadata": {},
   "outputs": [],
   "source": [
    "# create new dictionary in order to map colun names as list of names has now changed\n",
    "\n",
    "labels_unscaled_total = {\n",
    "                         \"2018_cases_total\" : \"Cases\",\n",
    "                         \"clean_air\" : \"Air\",\n",
    "                         \"clean_environ\" : \"Env\",\n",
    "                         \"health_training\" : \"Hth\",\n",
    "                         \"school_awareness\" : \"Sch\",\n",
    "                         \"media_awareness\" : \"Med\",\n",
    "                         \"sub_counselling\" : \"Cns\",\n",
    "                          }\n",
    "values_unscaled_total = labels_unscaled_total.values()"
   ]
  },
  {
   "cell_type": "code",
   "execution_count": 71,
   "id": "e65abd39-4406-43dc-a35e-515b350ef67f",
   "metadata": {},
   "outputs": [
    {
     "data": {
      "text/plain": [
       "Text(0.5, 1.0, 'Total Raw: Triangle Correlation Heatmap')"
      ]
     },
     "execution_count": 71,
     "metadata": {},
     "output_type": "execute_result"
    },
    {
     "data": {
      "image/png": "[encoded data removed]",
      "text/plain": [
       "<Figure size 576x432 with 2 Axes>"
      ]
     },
     "metadata": {},
     "output_type": "display_data"
    }
   ],
   "source": [
    "# visualise using correlation heatmap\n",
    "\n",
    "plot.figure(figsize = (8, 6))\n",
    "\n",
    "mask = np.triu(np.ones_like(corr_matrix_unscaled_totalcount, dtype = bool))\n",
    "\n",
    "corr_heatmap_unscaled_totalcount = sns.heatmap(corr_matrix_unscaled_totalcount, \n",
    "                                   mask = mask, \n",
    "                                   vmin = 0, \n",
    "                                   vmax = 1,\n",
    "                                   annot = True,\n",
    "                                   fmt = \".2f\",\n",
    "                                   cmap = \"rocket\",\n",
    "                                   xticklabels = values_unscaled_total,\n",
    "                                   yticklabels = values_unscaled_total,\n",
    "                                   )\n",
    "\n",
    "corr_heatmap_unscaled_totalcount.set_title(\"Total Raw: Triangle Correlation Heatmap\",\n",
    "                                           fontdict = {\"fontsize\" : 12},\n",
    "                                           pad = 16) \n"
   ]
  },
  {
   "cell_type": "code",
   "execution_count": 72,
   "id": "9c2d2bfb-c718-49a8-ba9a-3c1046b9e8ce",
   "metadata": {},
   "outputs": [
    {
     "data": {
      "text/plain": [
       "Text(0.5, 1.0, 'Total Raw: Ordered Correlations Between 2018 Cases and Intervention Spending Category')"
      ]
     },
     "execution_count": 72,
     "metadata": {},
     "output_type": "execute_result"
    },
    {
     "data": {
      "image/png": "[encoded data removed]",
      "text/plain": [
       "<Figure size 288x432 with 2 Axes>"
      ]
     },
     "metadata": {},
     "output_type": "display_data"
    }
   ],
   "source": [
    "# correlate obesity cases with spending descending order\n",
    "\n",
    "\n",
    "#dataframe.corr()[['Sale Price']].sort_values(by='Sale Price', ascending=False)\n",
    "corr_cases_ordered = data_pca_unscaled_totalcount_numeric.corr()[[\"2018_cases_total\"]].sort_values(by = \"2018_cases_total\", ascending = False)\n",
    "\n",
    "plot.figure(figsize = (4, 6))\n",
    "\n",
    "corr_heatmap_cases_ordered = sns.heatmap(corr_cases_ordered, \n",
    "                                   vmin = 0, \n",
    "                                   vmax = 1,\n",
    "                                   annot = True,\n",
    "                                   fmt = \".2f\",\n",
    "                                   cmap = \"rocket\", \n",
    "                                   xticklabels = 1,\n",
    "                                   yticklabels = values_unscaled_total\n",
    "                                   )\n",
    "\n",
    "corr_heatmap_cases_ordered.set_title(\"Total Raw: Ordered Correlations Between 2018 Cases and Intervention Spending Category\",\n",
    "                                     fontdict = {\"fontsize\" : 12},\n",
    "                                     pad = 16) "
   ]
  },
  {
   "cell_type": "markdown",
   "id": "84493041-e300-4853-922e-1f55c2221555",
   "metadata": {},
   "source": [
    "### 5.2.2. Check VIFS for Total Raw"
   ]
  },
  {
   "cell_type": "code",
   "execution_count": 73,
   "id": "c1fab776-2be8-4ea8-be6b-cee17ecdb29b",
   "metadata": {},
   "outputs": [
    {
     "data": {
      "text/plain": [
       "array([[ 3.11e+00, -1.04e+00, -7.47e-01, -5.30e-01, -1.07e-03,  3.28e-02,\n",
       "        -5.94e-01],\n",
       "       [-1.04e+00,  3.63e+00, -5.43e-01, -2.63e-01, -1.19e+00,  3.41e-01,\n",
       "        -7.95e-01],\n",
       "       [-7.47e-01, -5.43e-01,  2.97e+00, -1.54e-02, -2.02e-01, -6.70e-01,\n",
       "        -6.10e-01],\n",
       "       [-5.30e-01, -2.63e-01, -1.54e-02,  2.61e+00, -1.31e-01, -7.78e-01,\n",
       "        -6.29e-01],\n",
       "       [-1.07e-03, -1.19e+00, -2.02e-01, -1.31e-01,  2.71e+00, -6.54e-01,\n",
       "        -2.63e-01],\n",
       "       [ 3.28e-02,  3.41e-01, -6.70e-01, -7.78e-01, -6.54e-01,  2.65e+00,\n",
       "        -6.50e-01],\n",
       "       [-5.94e-01, -7.95e-01, -6.10e-01, -6.29e-01, -2.63e-01, -6.50e-01,\n",
       "         3.57e+00]])"
      ]
     },
     "execution_count": 73,
     "metadata": {},
     "output_type": "execute_result"
    }
   ],
   "source": [
    "# check VIFs to see if these have improved after removing M and F\n",
    "\n",
    "inv_corr_matrix_unscaled_totalcount = np.linalg.inv(corr_matrix_unscaled_totalcount)\n",
    "np.set_printoptions(precision = 2)\n",
    "inv_corr_matrix_unscaled_totalcount\n"
   ]
  },
  {
   "cell_type": "markdown",
   "id": "4ebb1987-fb13-46c0-8603-923d78358a18",
   "metadata": {},
   "source": [
    "### 5.2.3. Test for positivity of the correlation matrix"
   ]
  },
  {
   "cell_type": "code",
   "execution_count": 74,
   "id": "da843780-694c-4a91-a928-5d01be425e6b",
   "metadata": {},
   "outputs": [
    {
     "name": "stdout",
     "output_type": "stream",
     "text": [
      "The determinant of the correlation matrix to 2dp is: 0.00\n"
     ]
    }
   ],
   "source": [
    "det_corr_matrix_unscaled_totalcount = np.linalg.det(corr_matrix_unscaled_totalcount)\n",
    "print(f\"The determinant of the correlation matrix to 2dp is: {det_corr_matrix_unscaled_totalcount:.2f}\")"
   ]
  },
  {
   "cell_type": "code",
   "execution_count": 75,
   "id": "8890dd93-acdf-49f8-bc95-b2345b7fe87f",
   "metadata": {},
   "outputs": [
    {
     "name": "stdout",
     "output_type": "stream",
     "text": [
      "The determinant of the correlation matrix to 9dp is: 0.003661212\n"
     ]
    }
   ],
   "source": [
    "# Increase number of decimal places printed as further check on size of determinant\n",
    "print(f\"The determinant of the correlation matrix to 9dp is: {det_corr_matrix_unscaled_totalcount:.9f}\")"
   ]
  },
  {
   "cell_type": "markdown",
   "id": "10075c4f-dad0-4f52-b644-9169a06863ec",
   "metadata": {},
   "source": [
    "### 5.2.4 Perform Bartlett's Test of Sphericity"
   ]
  },
  {
   "cell_type": "code",
   "execution_count": 76,
   "id": "f14cf212-3521-48d6-afa4-45efce96049e",
   "metadata": {},
   "outputs": [
    {
     "name": "stdout",
     "output_type": "stream",
     "text": [
      "The Chi-Square statistic to 2dp is: 836.17\n",
      "The p-value to 2dp is: 0.00\n"
     ]
    }
   ],
   "source": [
    "chi_square_value_totalcount_unscaled,p_value_totalcount_unscaled = calculate_bartlett_sphericity(\n",
    "                                                                   data_pca_unscaled_totalcount_numeric\n",
    "                                                                   )\n",
    "\n",
    "print(f\"The Chi-Square statistic to 2dp is: {chi_square_value_totalcount_unscaled:.2f}\")\n",
    "print(f\"The p-value to 2dp is: {p_value_totalcount_unscaled:.2f}\")"
   ]
  },
  {
   "cell_type": "markdown",
   "id": "dfe46a10-437f-486d-a9c6-01c91224d481",
   "metadata": {},
   "source": [
    "### 5.2.5. Calculate Kaiser-Meyer-Olkin (KMO) Value"
   ]
  },
  {
   "cell_type": "code",
   "execution_count": 77,
   "id": "51b0a0f0-4991-4483-b0d1-7fe7ce5a38d9",
   "metadata": {},
   "outputs": [
    {
     "name": "stdout",
     "output_type": "stream",
     "text": [
      "The KMO value to 2dp is: 0.92\n"
     ]
    }
   ],
   "source": [
    "kmo_all_totalcount,kmo_model_totalcount = calculate_kmo(data_pca_unscaled_totalcount_numeric)\n",
    "\n",
    "print(f\"The KMO value to 2dp is: {kmo_model_totalcount:.2f}\")"
   ]
  },
  {
   "cell_type": "markdown",
   "id": "a77ac54a-c290-4f90-90f7-fa1b76ff8718",
   "metadata": {},
   "source": [
    "### 5.2.6. Conclusion from testing"
   ]
  },
  {
   "cell_type": "code",
   "execution_count": 78,
   "id": "fc5fc60c-3b73-4125-84dd-09ce05dd63aa",
   "metadata": {},
   "outputs": [],
   "source": [
    "# As indicated by improved KMO value, Total Raw looks to be more suitable\n",
    "# than Gendered Raw for PCA\n",
    "# There is still evidence of multicollinearity as evidenced by the pairwise correlations > 0.7\n",
    "# However, extreme multicollinearity has been removed"
   ]
  },
  {
   "cell_type": "markdown",
   "id": "ab247710-3c35-4a4e-a13f-f16cce685742",
   "metadata": {},
   "source": [
    "## 6. Conduct PCA on Total Raw <a class=\"anchor\" id=\"section6\"></a>"
   ]
  },
  {
   "cell_type": "markdown",
   "id": "b7282de0-1431-4d66-875b-d52ecd3e1bac",
   "metadata": {},
   "source": [
    "### 6.1. Run PCA using functions from the Scikit-learn library"
   ]
  },
  {
   "cell_type": "code",
   "execution_count": 79,
   "id": "cc4decdb-4b89-4c78-858d-857ccb4a381d",
   "metadata": {},
   "outputs": [],
   "source": [
    "from sklearn.decomposition import PCA\n",
    "from sklearn import preprocessing\n",
    "from sklearn.preprocessing import StandardScaler\n",
    "\n",
    "x = StandardScaler().fit_transform(data_pca_unscaled_totalcount_numeric)"
   ]
  },
  {
   "cell_type": "code",
   "execution_count": 80,
   "id": "4a33851e-b846-4192-a162-aa6c8ab28c2a",
   "metadata": {},
   "outputs": [],
   "source": [
    "# Run with the maximum components initially so effects of all components can be inspected\n",
    "pca = PCA(n_components=7)\n",
    "\n",
    "principal_components = pca.fit_transform(x)\n",
    "\n",
    "principal_dataframe = pd.DataFrame(data = principal_components, columns = ['PC1', 'PC2', 'PC3', 'PC4', 'PC5', 'PC6', 'PC7'])"
   ]
  },
  {
   "cell_type": "markdown",
   "id": "33e140d3-9ef8-49d8-b93a-2211d3beb079",
   "metadata": {},
   "source": [
    "### 6.2. Produce scree plot"
   ]
  },
  {
   "cell_type": "code",
   "execution_count": 81,
   "id": "c070d5e2-4b9a-418a-a478-9408b7d831c6",
   "metadata": {},
   "outputs": [
    {
     "data": {
      "image/png": "[encoded data removed]",
      "text/plain": [
       "<Figure size 432x288 with 1 Axes>"
      ]
     },
     "metadata": {},
     "output_type": "display_data"
    }
   ],
   "source": [
    "# scree plot\n",
    "percent_variance = np.round(pca.explained_variance_ratio_* 100, decimals =2)\n",
    "columns = ['PC1', 'PC2', 'PC3', 'PC4', 'PC5', 'PC6', 'PC7']\n",
    "plot.bar(x= range(1,8), height=percent_variance, tick_label=columns)\n",
    "plot.ylabel('Percentate of Variance Explained')\n",
    "plot.xlabel('Principal Component')\n",
    "plot.title('PCA Scree Plot')\n",
    "plot.show()"
   ]
  },
  {
   "cell_type": "code",
   "execution_count": 82,
   "id": "ec354e0f-2716-401e-9905-a6541387a086",
   "metadata": {},
   "outputs": [
    {
     "data": {
      "image/png": "[encoded data removed]",
      "text/plain": [
       "<Figure size 432x288 with 1 Axes>"
      ]
     },
     "metadata": {},
     "output_type": "display_data"
    }
   ],
   "source": [
    "# Trying a line scree plot\n",
    "\n",
    "PC_values = np.arange(pca.n_components_) + 1\n",
    "plot.plot(PC_values, pca.explained_variance_ratio_ * 100, 'bo-', linewidth=2)\n",
    "plot.title('Scree Plot')\n",
    "plot.xlabel('Principal Component')\n",
    "plot.ylabel('Percentage of Variance Explained')\n",
    "plot.show()"
   ]
  },
  {
   "cell_type": "markdown",
   "id": "b5e61618-c2b3-43a4-8831-0225e916cd10",
   "metadata": {},
   "source": [
    "### 6.3. Decide on number of components to retain"
   ]
  },
  {
   "cell_type": "code",
   "execution_count": 83,
   "id": "dc9d1035-42f3-43b0-8021-13529dc9813f",
   "metadata": {},
   "outputs": [],
   "source": [
    "# Guidelines:\n",
    "# Keep components with eigenvalues > 1\n",
    "# Plot scree plot: ordered plot of variance explained by each component arranged in descending order\n",
    "# Inspect \n",
    "# Discard all components falling below point at which slope of the line chages drastically => \"the elbow\"\n",
    "# Keep only the components explaining 70% of the data (Jolliffe, 2016)"
   ]
  },
  {
   "cell_type": "code",
   "execution_count": 84,
   "id": "2452f090-8299-4323-aa94-721b4ede5c87",
   "metadata": {},
   "outputs": [],
   "source": [
    "# Decision on components:\n",
    "# choose 2 components\n",
    "# explains ~80% of the variance\n",
    "# inspecting scree plot suggests \"elbow\" occurs at component 2\n",
    "# eigenvalue of PC2 is < 1 but keep as we can explain another c.6% of variance with it"
   ]
  }
 ],
 "metadata": {
  "kernelspec": {
   "display_name": "Python 3 (ipykernel)",
   "language": "python",
   "name": "python3"
  },
  "language_info": {
   "codemirror_mode": {
    "name": "ipython",
    "version": 3
   },
   "file_extension": ".py",
   "mimetype": "text/x-python",
   "name": "python",
   "nbconvert_exporter": "python",
   "pygments_lexer": "ipython3",
   "version": "3.9.6"
  }
 },
 "nbformat": 4,
 "nbformat_minor": 5
}
